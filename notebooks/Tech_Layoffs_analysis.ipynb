{
 "cells": [
  {
   "cell_type": "markdown",
   "metadata": {
    "id": "gjkhq8O4cXK2"
   },
   "source": [
    "# **Introduction**\n",
    "\n",
    "From Amazon, Microsoft, Google to Wayfair, the technology industry is currently shaken by massive layoffs since mid-2022.\n",
    "\n",
    "This dataset includes information on 450+ technology companies; and has the potential to gain insights on technology industry trends and make informed decisions for a career or business.\n",
    "\n",
    "In this notebook we will look at EDA of Employee layoffs."
   ]
  },
  {
   "cell_type": "code",
   "execution_count": 1,
   "metadata": {
    "id": "6OdHPDnCcNwu"
   },
   "outputs": [],
   "source": [
    "import pandas as pd\n",
    "import numpy as np\n",
    "import matplotlib.pyplot as plt\n",
    "import seaborn as sns\n",
    "\n",
    "import matplotlib\n",
    "matplotlib.rcParams.update({'font.size': 22})"
   ]
  },
  {
   "cell_type": "code",
   "execution_count": 2,
   "metadata": {
    "colab": {
     "base_uri": "https://localhost:8080/",
     "height": 782
    },
    "id": "utzBgJ0tc98f",
    "outputId": "6221badc-7916-4e1c-bf00-94c4c45a2a72"
   },
   "outputs": [],
   "source": [
    "FILEPATH = \"G:/CODE_playground/py/data_science/colab notebooks/tech layoffs analysis/data/tech_layoffs.csv\"\n",
    "techlayoff_data = FILEPATH\n",
    "\n",
    "df = pd.read_csv(techlayoff_data)\n",
    "df"
   ]
  },
  {
   "cell_type": "markdown",
   "metadata": {
    "id": "Vue66hsclLYk"
   },
   "source": [
    "Check for value anomalities"
   ]
  },
  {
   "cell_type": "code",
   "execution_count": 3,
   "metadata": {
    "colab": {
     "base_uri": "https://localhost:8080/"
    },
    "id": "G9BkOJF2lPA9",
    "outputId": "2c17123f-a311-44b2-d008-387f25aa05f6"
   },
   "outputs": [],
   "source": [
    "from pandas.api.types import is_numeric_dtype\n",
    "\n",
    "num_cols = ['total_layoffs','impacted_workforce_percentage']\n",
    "cols = df.columns\n",
    "\n",
    "for i in cols:\n",
    "    if is_numeric_dtype(df[i]) == False:\n",
    "        print(str(i) + \" is NOT numeric type\")\n",
    "    else:\n",
    "        print(str(i) + \" is numeric type\")"
   ]
  },
  {
   "cell_type": "markdown",
   "metadata": {
    "id": "vPpitBqShBzR"
   },
   "source": [
    "# Data cleaning and preprocessing"
   ]
  },
  {
   "cell_type": "code",
   "execution_count": 4,
   "metadata": {
    "colab": {
     "base_uri": "https://localhost:8080/"
    },
    "id": "VG7jqmGNjY9_",
    "outputId": "f48d9f8b-21f8-4cc2-9e14-0bd1aa5d2967"
   },
   "outputs": [],
   "source": [
    "# check for null values\n",
    "df.isnull().sum()"
   ]
  },
  {
   "cell_type": "code",
   "execution_count": 5,
   "metadata": {
    "colab": {
     "base_uri": "https://localhost:8080/"
    },
    "id": "ovUoftXodlfc",
    "outputId": "d46a5414-3269-4ce0-9d33-6d1e7bf3e5e8"
   },
   "outputs": [],
   "source": [
    "df.info()"
   ]
  },
  {
   "cell_type": "markdown",
   "metadata": {
    "id": "mNFUGi5wooxf"
   },
   "source": [
    "It looks like all columns have string characters. We need to be careful about this while on EDA"
   ]
  },
  {
   "cell_type": "code",
   "execution_count": 6,
   "metadata": {
    "colab": {
     "base_uri": "https://localhost:8080/"
    },
    "id": "rvc2GXnwjfVI",
    "outputId": "5e6281cb-f784-418d-d6b4-5a8e67bc3c4d"
   },
   "outputs": [],
   "source": [
    "# drop 'additional_notes' column\n",
    "df.drop(columns=['additional_notes'], inplace=True)\n",
    "df.columns"
   ]
  },
  {
   "cell_type": "code",
   "execution_count": 7,
   "metadata": {
    "colab": {
     "base_uri": "https://localhost:8080/"
    },
    "id": "tnWuv5CweV52",
    "outputId": "c7a88bdf-ab9a-4e9e-ce4b-3c4022f997c1"
   },
   "outputs": [],
   "source": [
    "df['reported_date'] = df['reported_date'].astype('datetime64')\n",
    "df['Month'] = df['reported_date'].dt.month\n",
    "df['Year'] = df['reported_date'].dt.strftime('%Y')\n",
    "df.info()"
   ]
  },
  {
   "cell_type": "markdown",
   "metadata": {
    "id": "esCVtliAriA7"
   },
   "source": [
    "Clean 'industry' column:"
   ]
  },
  {
   "cell_type": "code",
   "execution_count": 8,
   "metadata": {
    "colab": {
     "base_uri": "https://localhost:8080/"
    },
    "id": "hIp3vKxDqOIF",
    "outputId": "9b15ba30-79cf-465d-8947-9c15d5bf86f2"
   },
   "outputs": [],
   "source": [
    "# Before\n",
    "df['industry']"
   ]
  },
  {
   "cell_type": "code",
   "execution_count": 9,
   "metadata": {
    "id": "49tg_qRhr1Tz"
   },
   "outputs": [],
   "source": [
    "# ind1 = []\n",
    "# ind2 = []\n",
    "\n",
    "# for i in df['industry'].to_list():\n",
    "#   ind1.append(i.split(', '))\n",
    "#   ind2.append(i.split(', ')[-1])"
   ]
  },
  {
   "cell_type": "code",
   "execution_count": 10,
   "metadata": {
    "colab": {
     "base_uri": "https://localhost:8080/"
    },
    "id": "FZzkh60-opkQ",
    "outputId": "09022585-81d1-45a7-f58d-4bd9f2a52c1d"
   },
   "outputs": [],
   "source": [
    "# After\n",
    "ind = []\n",
    "for i in df['industry'].to_list():\n",
    "    ind.append(i.split(' ')[-1])\n",
    "    \n",
    "ind = [x.lower() for x in ind]\n",
    "ind = [x.replace(\"-\", \"\") for x in ind]\n",
    "\n",
    "df['industry'] = ind\n",
    "df['industry']"
   ]
  },
  {
   "cell_type": "markdown",
   "metadata": {
    "id": "d7quWVeZstUl"
   },
   "source": [
    "Clean 'headquarter_location' column:"
   ]
  },
  {
   "cell_type": "code",
   "execution_count": 11,
   "metadata": {
    "colab": {
     "base_uri": "https://localhost:8080/"
    },
    "id": "4OTx3PKbtvMn",
    "outputId": "ad47e0d1-dcee-43ab-9dd9-2b96c2d7953a"
   },
   "outputs": [],
   "source": [
    "# Before\n",
    "df['headquarter_location']"
   ]
  },
  {
   "cell_type": "code",
   "execution_count": 12,
   "metadata": {
    "colab": {
     "base_uri": "https://localhost:8080/"
    },
    "id": "Om6FbH7Zp8Y7",
    "outputId": "503faa38-1e63-4c52-e97f-c2b3cbb3f7d7"
   },
   "outputs": [],
   "source": [
    "# After\n",
    "ind = []\n",
    "for i in df['headquarter_location'].to_list():\n",
    "    ind.append(i.split(',')[-1])\n",
    "    \n",
    "ind = [x.lower() for x in ind]\n",
    "ind = [x.replace(\"-\", \"\") for x in ind]\n",
    "ind = [x.replace(\" \", \"\") for x in ind]\n",
    "\n",
    "df['headquarter_location'] = ind\n",
    "df['headquarter_location']"
   ]
  },
  {
   "cell_type": "code",
   "execution_count": 13,
   "metadata": {
    "colab": {
     "base_uri": "https://localhost:8080/"
    },
    "id": "zbnMla84uNHC",
    "outputId": "53955646-438e-4fa4-c708-9ee410907562"
   },
   "outputs": [],
   "source": [
    "df['total_layoffs'] = df['total_layoffs'].apply(lambda x: 0 if not x.isnumeric() else int(x))\n",
    "df['total_layoffs']"
   ]
  },
  {
   "cell_type": "code",
   "execution_count": 14,
   "metadata": {
    "colab": {
     "base_uri": "https://localhost:8080/",
     "height": 514
    },
    "id": "4k9K9CvumolQ",
    "outputId": "b0bbf5c3-e947-481e-dfe4-98134ead4a8f",
    "scrolled": true
   },
   "outputs": [],
   "source": [
    "# visualize the distribution of a dataset\n",
    "plt.figure(figsize=(10,8))\n",
    "sns.kdeplot(x=df['total_layoffs'])\n",
    "plt.title('Number of Layoffs')\n",
    "plt.show()"
   ]
  },
  {
   "cell_type": "code",
   "execution_count": 15,
   "metadata": {
    "colab": {
     "base_uri": "https://localhost:8080/"
    },
    "id": "0YNBZxy5drpG",
    "outputId": "122ab1e2-08ba-489f-8a05-c43d5904479a"
   },
   "outputs": [],
   "source": [
    "# convert data type\n",
    "df['impacted_workforce_percentage'] = df['impacted_workforce_percentage'].apply(lambda x: 0 if not x.isnumeric() else int(x))\n",
    "df['impacted_workforce_percentage']"
   ]
  },
  {
   "cell_type": "code",
   "execution_count": 16,
   "metadata": {
    "colab": {
     "base_uri": "https://localhost:8080/"
    },
    "id": "Q0EFCjO-hMhz",
    "outputId": "b6bda337-eaa6-42ab-9314-8ddf6d3d44ea"
   },
   "outputs": [],
   "source": [
    "df.info()"
   ]
  },
  {
   "cell_type": "markdown",
   "metadata": {
    "id": "_X0uyeXHqj4u"
   },
   "source": [
    "Now the data is ready for exploration."
   ]
  },
  {
   "cell_type": "code",
   "execution_count": 17,
   "metadata": {},
   "outputs": [],
   "source": [
    "df.to_csv(\"tech_layoffs_clean.csv\")"
   ]
  },
  {
   "cell_type": "markdown",
   "metadata": {
    "id": "Z8mMYPIbgIOH"
   },
   "source": [
    "# Data Exploration and Visualization"
   ]
  },
  {
   "cell_type": "code",
   "execution_count": 18,
   "metadata": {
    "colab": {
     "base_uri": "https://localhost:8080/",
     "height": 494
    },
    "id": "Nq3_JunbqgeB",
    "outputId": "8be42f1c-1cb0-4c71-db50-d913cd483dd9"
   },
   "outputs": [],
   "source": [
    "top_10 = df.sort_values('total_layoffs', ascending=False).head(10)\n",
    "top_10"
   ]
  },
  {
   "cell_type": "code",
   "execution_count": 19,
   "metadata": {},
   "outputs": [],
   "source": [
    "# !pip install matplotlib --upgrade --user"
   ]
  },
  {
   "cell_type": "code",
   "execution_count": 20,
   "metadata": {},
   "outputs": [],
   "source": [
    "print('matplotlib: {}'.format(matplotlib.__version__))"
   ]
  },
  {
   "cell_type": "markdown",
   "metadata": {},
   "source": [
    "### Top 10 Layoffs By Company Name"
   ]
  },
  {
   "cell_type": "code",
   "execution_count": 21,
   "metadata": {
    "scrolled": true
   },
   "outputs": [],
   "source": [
    "fig, ax = plt.subplots(figsize=(25, 10))\n",
    "\n",
    "p=sns.barplot(x=\"total_layoffs\", y=\"company\", data=top_10,\n",
    "              ax=ax)\n",
    "for container in p.containers:\n",
    "    p.bar_label(container,padding=-80)\n",
    "    \n",
    "plt.title(\"Top 10 Company Layoffs\")\n",
    "plt.xlabel('Layoffs')\n",
    "plt.ylabel('Company Name')\n",
    "plt.show()"
   ]
  },
  {
   "cell_type": "markdown",
   "metadata": {},
   "source": [
    "### Top 10 Layoffs By Industry"
   ]
  },
  {
   "cell_type": "code",
   "execution_count": 22,
   "metadata": {
    "id": "qzrlnnzLtWp-"
   },
   "outputs": [],
   "source": [
    "fig, ax = plt.subplots(figsize=(25, 10))\n",
    "\n",
    "# top_10_industries = df['industry'].value_counts().head(10)\n",
    "top_10_industries = df.groupby('industry').size().sort_values(ascending=False).head(10)\n",
    "top_10_industries = top_10_industries.to_frame().reset_index()\n",
    "\n",
    "p = sns.barplot(x=0, y='industry', data=top_10_industries, ax=ax)\n",
    "for container in p.containers:\n",
    "    p.bar_label(container, padding=-40)\n",
    "    print(container)\n",
    "    \n",
    "plt.title(\"Top 10 Layoffs By Industry\")\n",
    "plt.ylabel('Industry')\n",
    "plt.xlabel('Lay offs')\n",
    "plt.show()"
   ]
  },
  {
   "cell_type": "markdown",
   "metadata": {},
   "source": [
    "### Top 10 Layoffs By HQ Location"
   ]
  },
  {
   "cell_type": "code",
   "execution_count": 23,
   "metadata": {
    "id": "FL8GCHPct-fp"
   },
   "outputs": [],
   "source": [
    "fig, ax = plt.subplots(figsize=(25, 10))\n",
    "# top_10_locations = df['headquarter_location'].value_counts().head(10)\n",
    "top_10_locations = df.groupby('headquarter_location').size().sort_values(ascending=False).head(10)\n",
    "top_10_locations = top_10_locations.to_frame().reset_index()\n",
    "\n",
    "p = sns.barplot(y='headquarter_location', x=0, data=top_10_locations, ax=ax)\n",
    "for container in p.containers:\n",
    "    p.bar_label(container, padding=-45)\n",
    "    \n",
    "plt.title(\"Top 10 Layoffs By HQ Location\")\n",
    "plt.ylabel(\"headquarter_location\")\n",
    "plt.xlabel('Layoffs')\n",
    "plt.show()"
   ]
  },
  {
   "cell_type": "markdown",
   "metadata": {},
   "source": [
    "### Layoffs By IPO status"
   ]
  },
  {
   "cell_type": "code",
   "execution_count": 24,
   "metadata": {
    "scrolled": true
   },
   "outputs": [],
   "source": [
    "fig, ax = plt.subplots(figsize=(25, 5))\n",
    "df_status = df.groupby('status').size().sort_values(ascending=False)\n",
    "df_status = df_status.to_frame().reset_index()\n",
    "\n",
    "p = sns.countplot(y='status', data=df, ax=ax)\n",
    "for container in p.containers:\n",
    "    p.bar_label(container, padding=-40)\n",
    "plt.title(\"Private vs Public Layoffs\")\n",
    "plt.ylabel('Number of Layoffs')\n",
    "plt.xlabel('IPO status')\n",
    "plt.show()"
   ]
  },
  {
   "cell_type": "markdown",
   "metadata": {},
   "source": [
    "### Layoffs By Year"
   ]
  },
  {
   "cell_type": "code",
   "execution_count": 25,
   "metadata": {},
   "outputs": [],
   "source": [
    "fig, ax = plt.subplots(figsize=(25, 8))\n",
    "p = sns.countplot(x=\"Year\", data=df, ax=ax)\n",
    "\n",
    "for container in p.containers:\n",
    "    p.bar_label(container, padding=-50)\n",
    "\n",
    "plt.title(\"Layoffs in 2022 and 2023\")\n",
    "plt.ylabel(\"Number of Layoffs\")\n",
    "plt.xlabel('Year')\n",
    "plt.show()"
   ]
  },
  {
   "cell_type": "code",
   "execution_count": 26,
   "metadata": {},
   "outputs": [],
   "source": [
    "# group the data by month and layoffs; and calculate the total layoffs\n",
    "month_layoffs = df.groupby([\"Month\"])[\"total_layoffs\"].count().reset_index()\n",
    "month_layoffs"
   ]
  },
  {
   "cell_type": "code",
   "execution_count": 27,
   "metadata": {},
   "outputs": [],
   "source": [
    "plt.figure(figsize=(10,8))\n",
    "sns.kdeplot(x=df['Month'])\n",
    "plt.title('Distribution of Layoffs per Month')\n",
    "plt.show()"
   ]
  },
  {
   "cell_type": "markdown",
   "metadata": {},
   "source": [
    "### Layoffs By Month"
   ]
  },
  {
   "cell_type": "code",
   "execution_count": 28,
   "metadata": {
    "scrolled": true
   },
   "outputs": [],
   "source": [
    "import calendar\n",
    "plt.figure(figsize=(20, 10))\n",
    "\n",
    "# build line chart\n",
    "sns.lineplot(x=\"Month\", y=\"total_layoffs\", data=gg)\n",
    "plt.title(\"Layoffs Trends\")\n",
    "plt.ylabel(\"Layoffs\")\n",
    "plt.xlabel(\"Month\")\n",
    "\n",
    "# set x-tick labels as the names of months\n",
    "plt.xticks(range(1,13), [calendar.month_name[i] for i in range(1,13)], rotation=20)\n",
    "plt.show()"
   ]
  }
 ],
 "metadata": {
  "colab": {
   "provenance": []
  },
  "kernelspec": {
   "display_name": "Python 3",
   "language": "python",
   "name": "python3"
  },
  "language_info": {
   "codemirror_mode": {
    "name": "ipython",
    "version": 3
   },
   "file_extension": ".py",
   "mimetype": "text/x-python",
   "name": "python",
   "nbconvert_exporter": "python",
   "pygments_lexer": "ipython3",
   "version": "3.8.8"
  }
 },
 "nbformat": 4,
 "nbformat_minor": 1
}
