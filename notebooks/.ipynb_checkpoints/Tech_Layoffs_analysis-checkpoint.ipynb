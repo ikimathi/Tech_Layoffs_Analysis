{
 "cells": [
  {
   "cell_type": "markdown",
   "metadata": {
    "id": "gjkhq8O4cXK2"
   },
   "source": [
    "# **Introduction**\n",
    "\n",
    "From Amazon, Microsoft, Google to Wayfair, the technology industry is currently shaken by massive layoffs since mid-2022.\n",
    "\n",
    "In this notebook we will look at EDA of Employee layoffs.\n",
    "\n",
    "The following is a description of the columns used in this dataset.\n",
    "\n",
    "This tabular dataset includes information on 450+ technology companies, including:\n",
    "\n",
    "This dataset has the potential to gain insights on technology industry trends and make informed decisions for a career or business."
   ]
  },
  {
   "cell_type": "code",
   "execution_count": 1,
   "metadata": {
    "id": "6OdHPDnCcNwu"
   },
   "outputs": [],
   "source": [
    "import pandas as pd\n",
    "import numpy as np\n",
    "import matplotlib.pyplot as plt\n",
    "import seaborn as sns\n",
    "\n",
    "import matplotlib\n",
    "matplotlib.rcParams.update({'font.size': 22})"
   ]
  },
  {
   "cell_type": "code",
   "execution_count": 2,
   "metadata": {
    "colab": {
     "base_uri": "https://localhost:8080/",
     "height": 782
    },
    "id": "utzBgJ0tc98f",
    "outputId": "6221badc-7916-4e1c-bf00-94c4c45a2a72"
   },
   "outputs": [
    {
     "data": {
      "text/html": [
       "<div>\n",
       "<style scoped>\n",
       "    .dataframe tbody tr th:only-of-type {\n",
       "        vertical-align: middle;\n",
       "    }\n",
       "\n",
       "    .dataframe tbody tr th {\n",
       "        vertical-align: top;\n",
       "    }\n",
       "\n",
       "    .dataframe thead th {\n",
       "        text-align: right;\n",
       "    }\n",
       "</style>\n",
       "<table border=\"1\" class=\"dataframe\">\n",
       "  <thead>\n",
       "    <tr style=\"text-align: right;\">\n",
       "      <th></th>\n",
       "      <th>company</th>\n",
       "      <th>total_layoffs</th>\n",
       "      <th>impacted_workforce_percentage</th>\n",
       "      <th>reported_date</th>\n",
       "      <th>industry</th>\n",
       "      <th>headquarter_location</th>\n",
       "      <th>sources</th>\n",
       "      <th>status</th>\n",
       "      <th>additional_notes</th>\n",
       "    </tr>\n",
       "  </thead>\n",
       "  <tbody>\n",
       "    <tr>\n",
       "      <th>0</th>\n",
       "      <td>C2FO</td>\n",
       "      <td>20</td>\n",
       "      <td>2</td>\n",
       "      <td>12/9/2022</td>\n",
       "      <td>Fintech, payments</td>\n",
       "      <td>Leawood, KS</td>\n",
       "      <td>Kansas City Business Journal</td>\n",
       "      <td>Private</td>\n",
       "      <td>NaN</td>\n",
       "    </tr>\n",
       "    <tr>\n",
       "      <th>1</th>\n",
       "      <td>VideoAmp</td>\n",
       "      <td>Unclear</td>\n",
       "      <td>2</td>\n",
       "      <td>9/19/2022</td>\n",
       "      <td>Advertising platforms</td>\n",
       "      <td>Los Angeles</td>\n",
       "      <td>Company memo</td>\n",
       "      <td>Private</td>\n",
       "      <td>NaN</td>\n",
       "    </tr>\n",
       "    <tr>\n",
       "      <th>2</th>\n",
       "      <td>Amperity</td>\n",
       "      <td>13</td>\n",
       "      <td>3</td>\n",
       "      <td>8/20/2022</td>\n",
       "      <td>Saas, analytics</td>\n",
       "      <td>Seattle</td>\n",
       "      <td>Geekwire</td>\n",
       "      <td>Private</td>\n",
       "      <td>NaN</td>\n",
       "    </tr>\n",
       "    <tr>\n",
       "      <th>3</th>\n",
       "      <td>Addepar</td>\n",
       "      <td>20</td>\n",
       "      <td>3</td>\n",
       "      <td>1/18/2023</td>\n",
       "      <td>fintech, data analytics</td>\n",
       "      <td>Mountain View, CA</td>\n",
       "      <td>Fortune</td>\n",
       "      <td>Private</td>\n",
       "      <td>NaN</td>\n",
       "    </tr>\n",
       "    <tr>\n",
       "      <th>4</th>\n",
       "      <td>Thirty Madison</td>\n",
       "      <td>24</td>\n",
       "      <td>3</td>\n",
       "      <td>5/13/2022</td>\n",
       "      <td>Health Care</td>\n",
       "      <td>New York</td>\n",
       "      <td>Axios</td>\n",
       "      <td>Private</td>\n",
       "      <td>Per Axios, 22 of the employees laid off were f...</td>\n",
       "    </tr>\n",
       "    <tr>\n",
       "      <th>...</th>\n",
       "      <td>...</td>\n",
       "      <td>...</td>\n",
       "      <td>...</td>\n",
       "      <td>...</td>\n",
       "      <td>...</td>\n",
       "      <td>...</td>\n",
       "      <td>...</td>\n",
       "      <td>...</td>\n",
       "      <td>...</td>\n",
       "    </tr>\n",
       "    <tr>\n",
       "      <th>484</th>\n",
       "      <td>Salesforce</td>\n",
       "      <td>9090</td>\n",
       "      <td>Unclear</td>\n",
       "      <td>1/4/2023</td>\n",
       "      <td>enterprise tech, analytics</td>\n",
       "      <td>San Francisco</td>\n",
       "      <td>New York Times</td>\n",
       "      <td>Public</td>\n",
       "      <td>NaN</td>\n",
       "    </tr>\n",
       "    <tr>\n",
       "      <th>485</th>\n",
       "      <td>Oracle</td>\n",
       "      <td>Unclear</td>\n",
       "      <td>Unclear</td>\n",
       "      <td>8/1/2022</td>\n",
       "      <td>SaaS, enterprise software</td>\n",
       "      <td>Austin</td>\n",
       "      <td>The Information</td>\n",
       "      <td>Public</td>\n",
       "      <td>The Information reported thousands of people w...</td>\n",
       "    </tr>\n",
       "    <tr>\n",
       "      <th>486</th>\n",
       "      <td>LivePerson</td>\n",
       "      <td>Unclear</td>\n",
       "      <td>Unclear</td>\n",
       "      <td>9/15/2022</td>\n",
       "      <td>Customer service</td>\n",
       "      <td>New York</td>\n",
       "      <td>LinkedIn</td>\n",
       "      <td>Public</td>\n",
       "      <td>NaN</td>\n",
       "    </tr>\n",
       "    <tr>\n",
       "      <th>487</th>\n",
       "      <td>Skillz</td>\n",
       "      <td>Unclear</td>\n",
       "      <td>Unclear</td>\n",
       "      <td>8/29/2022</td>\n",
       "      <td>Mobile Apps, Gaming</td>\n",
       "      <td>San Francisco</td>\n",
       "      <td>Seeking Alpha</td>\n",
       "      <td>Public</td>\n",
       "      <td>NaN</td>\n",
       "    </tr>\n",
       "    <tr>\n",
       "      <th>488</th>\n",
       "      <td>Blueboard</td>\n",
       "      <td>Unclear</td>\n",
       "      <td>Unclear</td>\n",
       "      <td>11/3/2022</td>\n",
       "      <td>Enterprise Software</td>\n",
       "      <td>San Francisco</td>\n",
       "      <td>LinkedIn reports</td>\n",
       "      <td>Private</td>\n",
       "      <td>NaN</td>\n",
       "    </tr>\n",
       "  </tbody>\n",
       "</table>\n",
       "<p>489 rows × 9 columns</p>\n",
       "</div>"
      ],
      "text/plain": [
       "            company total_layoffs impacted_workforce_percentage reported_date  \\\n",
       "0              C2FO            20                             2     12/9/2022   \n",
       "1          VideoAmp       Unclear                             2     9/19/2022   \n",
       "2          Amperity            13                             3     8/20/2022   \n",
       "3           Addepar            20                             3     1/18/2023   \n",
       "4    Thirty Madison            24                             3     5/13/2022   \n",
       "..              ...           ...                           ...           ...   \n",
       "484      Salesforce          9090                       Unclear      1/4/2023   \n",
       "485          Oracle       Unclear                       Unclear      8/1/2022   \n",
       "486      LivePerson       Unclear                       Unclear     9/15/2022   \n",
       "487          Skillz       Unclear                       Unclear     8/29/2022   \n",
       "488       Blueboard       Unclear                       Unclear     11/3/2022   \n",
       "\n",
       "                       industry headquarter_location  \\\n",
       "0             Fintech, payments          Leawood, KS   \n",
       "1         Advertising platforms          Los Angeles   \n",
       "2               Saas, analytics              Seattle   \n",
       "3       fintech, data analytics    Mountain View, CA   \n",
       "4                   Health Care             New York   \n",
       "..                          ...                  ...   \n",
       "484  enterprise tech, analytics        San Francisco   \n",
       "485   SaaS, enterprise software               Austin   \n",
       "486            Customer service             New York   \n",
       "487         Mobile Apps, Gaming        San Francisco   \n",
       "488         Enterprise Software        San Francisco   \n",
       "\n",
       "                          sources   status  \\\n",
       "0    Kansas City Business Journal  Private   \n",
       "1                    Company memo  Private   \n",
       "2                        Geekwire  Private   \n",
       "3                         Fortune  Private   \n",
       "4                           Axios  Private   \n",
       "..                            ...      ...   \n",
       "484                New York Times   Public   \n",
       "485               The Information   Public   \n",
       "486                      LinkedIn   Public   \n",
       "487                 Seeking Alpha   Public   \n",
       "488              LinkedIn reports  Private   \n",
       "\n",
       "                                      additional_notes  \n",
       "0                                                  NaN  \n",
       "1                                                  NaN  \n",
       "2                                                  NaN  \n",
       "3                                                  NaN  \n",
       "4    Per Axios, 22 of the employees laid off were f...  \n",
       "..                                                 ...  \n",
       "484                                                NaN  \n",
       "485  The Information reported thousands of people w...  \n",
       "486                                                NaN  \n",
       "487                                                NaN  \n",
       "488                                                NaN  \n",
       "\n",
       "[489 rows x 9 columns]"
      ]
     },
     "execution_count": 2,
     "metadata": {},
     "output_type": "execute_result"
    }
   ],
   "source": [
    "FILEPATH = \"G:/CODE_playground/py/data_science/colab notebooks/tech layoffs analysis/data/tech_layoffs.csv\"\n",
    "techlayoff_data = FILEPATH\n",
    "\n",
    "df = pd.read_csv(techlayoff_data)\n",
    "df"
   ]
  },
  {
   "cell_type": "markdown",
   "metadata": {
    "id": "Vue66hsclLYk"
   },
   "source": [
    "Check for value anomalities"
   ]
  },
  {
   "cell_type": "code",
   "execution_count": 3,
   "metadata": {
    "colab": {
     "base_uri": "https://localhost:8080/"
    },
    "id": "G9BkOJF2lPA9",
    "outputId": "2c17123f-a311-44b2-d008-387f25aa05f6"
   },
   "outputs": [
    {
     "name": "stdout",
     "output_type": "stream",
     "text": [
      "company is NOT numeric type\n",
      "total_layoffs is NOT numeric type\n",
      "impacted_workforce_percentage is NOT numeric type\n",
      "reported_date is NOT numeric type\n",
      "industry is NOT numeric type\n",
      "headquarter_location is NOT numeric type\n",
      "sources is NOT numeric type\n",
      "status is NOT numeric type\n",
      "additional_notes is NOT numeric type\n"
     ]
    }
   ],
   "source": [
    "from pandas.api.types import is_numeric_dtype\n",
    "\n",
    "num_cols = ['total_layoffs','impacted_workforce_percentage']\n",
    "cols = df.columns\n",
    "\n",
    "for i in cols:\n",
    "    if is_numeric_dtype(df[i]) == False:\n",
    "        print(str(i) + \" is NOT numeric type\")\n",
    "    else:\n",
    "        print(str(i) + \" is numeric type\")"
   ]
  },
  {
   "cell_type": "markdown",
   "metadata": {
    "id": "vPpitBqShBzR"
   },
   "source": [
    "# Data cleaning and preprocessing"
   ]
  },
  {
   "cell_type": "code",
   "execution_count": 4,
   "metadata": {
    "colab": {
     "base_uri": "https://localhost:8080/"
    },
    "id": "VG7jqmGNjY9_",
    "outputId": "f48d9f8b-21f8-4cc2-9e14-0bd1aa5d2967"
   },
   "outputs": [
    {
     "data": {
      "text/plain": [
       "company                            0\n",
       "total_layoffs                      0\n",
       "impacted_workforce_percentage      0\n",
       "reported_date                      0\n",
       "industry                           0\n",
       "headquarter_location               0\n",
       "sources                            0\n",
       "status                             0\n",
       "additional_notes                 467\n",
       "dtype: int64"
      ]
     },
     "execution_count": 4,
     "metadata": {},
     "output_type": "execute_result"
    }
   ],
   "source": [
    "# check for null values\n",
    "df.isnull().sum()"
   ]
  },
  {
   "cell_type": "code",
   "execution_count": 5,
   "metadata": {
    "colab": {
     "base_uri": "https://localhost:8080/"
    },
    "id": "ovUoftXodlfc",
    "outputId": "d46a5414-3269-4ce0-9d33-6d1e7bf3e5e8"
   },
   "outputs": [
    {
     "name": "stdout",
     "output_type": "stream",
     "text": [
      "<class 'pandas.core.frame.DataFrame'>\n",
      "RangeIndex: 489 entries, 0 to 488\n",
      "Data columns (total 9 columns):\n",
      " #   Column                         Non-Null Count  Dtype \n",
      "---  ------                         --------------  ----- \n",
      " 0   company                        489 non-null    object\n",
      " 1   total_layoffs                  489 non-null    object\n",
      " 2   impacted_workforce_percentage  489 non-null    object\n",
      " 3   reported_date                  489 non-null    object\n",
      " 4   industry                       489 non-null    object\n",
      " 5   headquarter_location           489 non-null    object\n",
      " 6   sources                        489 non-null    object\n",
      " 7   status                         489 non-null    object\n",
      " 8   additional_notes               22 non-null     object\n",
      "dtypes: object(9)\n",
      "memory usage: 34.5+ KB\n"
     ]
    }
   ],
   "source": [
    "df.info()"
   ]
  },
  {
   "cell_type": "markdown",
   "metadata": {
    "id": "mNFUGi5wooxf"
   },
   "source": [
    "It looks like all columns have string characters. We need to be careful about this while on EDA"
   ]
  },
  {
   "cell_type": "code",
   "execution_count": 6,
   "metadata": {
    "colab": {
     "base_uri": "https://localhost:8080/"
    },
    "id": "rvc2GXnwjfVI",
    "outputId": "5e6281cb-f784-418d-d6b4-5a8e67bc3c4d"
   },
   "outputs": [
    {
     "data": {
      "text/plain": [
       "Index(['company', 'total_layoffs', 'impacted_workforce_percentage',\n",
       "       'reported_date', 'industry', 'headquarter_location', 'sources',\n",
       "       'status'],\n",
       "      dtype='object')"
      ]
     },
     "execution_count": 6,
     "metadata": {},
     "output_type": "execute_result"
    }
   ],
   "source": [
    "# drop 'additional_notes' column\n",
    "df.drop(columns=['additional_notes'], inplace=True)\n",
    "df.columns"
   ]
  },
  {
   "cell_type": "code",
   "execution_count": 7,
   "metadata": {
    "colab": {
     "base_uri": "https://localhost:8080/"
    },
    "id": "tnWuv5CweV52",
    "outputId": "c7a88bdf-ab9a-4e9e-ce4b-3c4022f997c1"
   },
   "outputs": [
    {
     "name": "stdout",
     "output_type": "stream",
     "text": [
      "<class 'pandas.core.frame.DataFrame'>\n",
      "RangeIndex: 489 entries, 0 to 488\n",
      "Data columns (total 10 columns):\n",
      " #   Column                         Non-Null Count  Dtype         \n",
      "---  ------                         --------------  -----         \n",
      " 0   company                        489 non-null    object        \n",
      " 1   total_layoffs                  489 non-null    object        \n",
      " 2   impacted_workforce_percentage  489 non-null    object        \n",
      " 3   reported_date                  489 non-null    datetime64[ns]\n",
      " 4   industry                       489 non-null    object        \n",
      " 5   headquarter_location           489 non-null    object        \n",
      " 6   sources                        489 non-null    object        \n",
      " 7   status                         489 non-null    object        \n",
      " 8   Month                          489 non-null    int64         \n",
      " 9   Year                           489 non-null    object        \n",
      "dtypes: datetime64[ns](1), int64(1), object(8)\n",
      "memory usage: 38.3+ KB\n"
     ]
    }
   ],
   "source": [
    "df['reported_date'] = df['reported_date'].astype('datetime64')\n",
    "df['Month'] = df['reported_date'].dt.month\n",
    "df['Year'] = df['reported_date'].dt.strftime('%Y')\n",
    "df.info()"
   ]
  },
  {
   "cell_type": "markdown",
   "metadata": {
    "id": "esCVtliAriA7"
   },
   "source": [
    "Clean 'industry' column:"
   ]
  },
  {
   "cell_type": "code",
   "execution_count": 8,
   "metadata": {
    "colab": {
     "base_uri": "https://localhost:8080/"
    },
    "id": "hIp3vKxDqOIF",
    "outputId": "9b15ba30-79cf-465d-8947-9c15d5bf86f2"
   },
   "outputs": [
    {
     "data": {
      "text/plain": [
       "0               Fintech, payments\n",
       "1           Advertising platforms\n",
       "2                 Saas, analytics\n",
       "3         fintech, data analytics\n",
       "4                     Health Care\n",
       "                  ...            \n",
       "484    enterprise tech, analytics\n",
       "485     SaaS, enterprise software\n",
       "486              Customer service\n",
       "487           Mobile Apps, Gaming\n",
       "488           Enterprise Software\n",
       "Name: industry, Length: 489, dtype: object"
      ]
     },
     "execution_count": 8,
     "metadata": {},
     "output_type": "execute_result"
    }
   ],
   "source": [
    "# Before\n",
    "df['industry']"
   ]
  },
  {
   "cell_type": "code",
   "execution_count": 9,
   "metadata": {
    "id": "49tg_qRhr1Tz"
   },
   "outputs": [],
   "source": [
    "# ind1 = []\n",
    "# ind2 = []\n",
    "\n",
    "# for i in df['industry'].to_list():\n",
    "#   ind1.append(i.split(', '))\n",
    "#   ind2.append(i.split(', ')[-1])"
   ]
  },
  {
   "cell_type": "code",
   "execution_count": 10,
   "metadata": {
    "colab": {
     "base_uri": "https://localhost:8080/"
    },
    "id": "FZzkh60-opkQ",
    "outputId": "09022585-81d1-45a7-f58d-4bd9f2a52c1d"
   },
   "outputs": [
    {
     "data": {
      "text/plain": [
       "0       payments\n",
       "1      platforms\n",
       "2      analytics\n",
       "3      analytics\n",
       "4           care\n",
       "         ...    \n",
       "484    analytics\n",
       "485     software\n",
       "486      service\n",
       "487       gaming\n",
       "488     software\n",
       "Name: industry, Length: 489, dtype: object"
      ]
     },
     "execution_count": 10,
     "metadata": {},
     "output_type": "execute_result"
    }
   ],
   "source": [
    "# After\n",
    "ind = []\n",
    "for i in df['industry'].to_list():\n",
    "    ind.append(i.split(' ')[-1])\n",
    "    \n",
    "ind = [x.lower() for x in ind]\n",
    "ind = [x.replace(\"-\", \"\") for x in ind]\n",
    "\n",
    "df['industry'] = ind\n",
    "df['industry']"
   ]
  },
  {
   "cell_type": "markdown",
   "metadata": {
    "id": "d7quWVeZstUl"
   },
   "source": [
    "Clean 'headquarter_location' column:"
   ]
  },
  {
   "cell_type": "code",
   "execution_count": 11,
   "metadata": {
    "colab": {
     "base_uri": "https://localhost:8080/"
    },
    "id": "4OTx3PKbtvMn",
    "outputId": "ad47e0d1-dcee-43ab-9dd9-2b96c2d7953a"
   },
   "outputs": [
    {
     "data": {
      "text/plain": [
       "0            Leawood, KS\n",
       "1            Los Angeles\n",
       "2                Seattle\n",
       "3      Mountain View, CA\n",
       "4               New York\n",
       "             ...        \n",
       "484        San Francisco\n",
       "485               Austin\n",
       "486             New York\n",
       "487        San Francisco\n",
       "488        San Francisco\n",
       "Name: headquarter_location, Length: 489, dtype: object"
      ]
     },
     "execution_count": 11,
     "metadata": {},
     "output_type": "execute_result"
    }
   ],
   "source": [
    "# Before\n",
    "df['headquarter_location']"
   ]
  },
  {
   "cell_type": "code",
   "execution_count": 12,
   "metadata": {
    "colab": {
     "base_uri": "https://localhost:8080/"
    },
    "id": "Om6FbH7Zp8Y7",
    "outputId": "503faa38-1e63-4c52-e97f-c2b3cbb3f7d7"
   },
   "outputs": [
    {
     "data": {
      "text/plain": [
       "0                ks\n",
       "1        losangeles\n",
       "2           seattle\n",
       "3                ca\n",
       "4           newyork\n",
       "           ...     \n",
       "484    sanfrancisco\n",
       "485          austin\n",
       "486         newyork\n",
       "487    sanfrancisco\n",
       "488    sanfrancisco\n",
       "Name: headquarter_location, Length: 489, dtype: object"
      ]
     },
     "execution_count": 12,
     "metadata": {},
     "output_type": "execute_result"
    }
   ],
   "source": [
    "# After\n",
    "ind = []\n",
    "for i in df['headquarter_location'].to_list():\n",
    "    ind.append(i.split(',')[-1])\n",
    "    \n",
    "ind = [x.lower() for x in ind]\n",
    "ind = [x.replace(\"-\", \"\") for x in ind]\n",
    "ind = [x.replace(\" \", \"\") for x in ind]\n",
    "\n",
    "df['headquarter_location'] = ind\n",
    "df['headquarter_location']"
   ]
  },
  {
   "cell_type": "code",
   "execution_count": 13,
   "metadata": {
    "colab": {
     "base_uri": "https://localhost:8080/"
    },
    "id": "zbnMla84uNHC",
    "outputId": "53955646-438e-4fa4-c708-9ee410907562"
   },
   "outputs": [
    {
     "data": {
      "text/plain": [
       "0        20\n",
       "1         0\n",
       "2        13\n",
       "3        20\n",
       "4        24\n",
       "       ... \n",
       "484    9090\n",
       "485       0\n",
       "486       0\n",
       "487       0\n",
       "488       0\n",
       "Name: total_layoffs, Length: 489, dtype: int64"
      ]
     },
     "execution_count": 13,
     "metadata": {},
     "output_type": "execute_result"
    }
   ],
   "source": [
    "df['total_layoffs'] = df['total_layoffs'].apply(lambda x: 0 if not x.isnumeric() else int(x))\n",
    "df['total_layoffs']"
   ]
  },
  {
   "cell_type": "code",
   "execution_count": 14,
   "metadata": {
    "colab": {
     "base_uri": "https://localhost:8080/",
     "height": 514
    },
    "id": "4k9K9CvumolQ",
    "outputId": "b0bbf5c3-e947-481e-dfe4-98134ead4a8f",
    "scrolled": true
   },
   "outputs": [
    {
     "data": {
      "image/png": "[encoded data removed]",
      "text/plain": [
       "<Figure size 720x576 with 1 Axes>"
      ]
     },
     "metadata": {
      "needs_background": "light"
     },
     "output_type": "display_data"
    }
   ],
   "source": [
    "# visualize the distribution of a dataset\n",
    "plt.figure(figsize=(10,8))\n",
    "sns.kdeplot(x=df['total_layoffs'])\n",
    "plt.title('Number of Layoffs')\n",
    "plt.show()"
   ]
  },
  {
   "cell_type": "code",
   "execution_count": 15,
   "metadata": {
    "colab": {
     "base_uri": "https://localhost:8080/"
    },
    "id": "0YNBZxy5drpG",
    "outputId": "122ab1e2-08ba-489f-8a05-c43d5904479a"
   },
   "outputs": [
    {
     "data": {
      "text/plain": [
       "0      2\n",
       "1      2\n",
       "2      3\n",
       "3      3\n",
       "4      3\n",
       "      ..\n",
       "484    0\n",
       "485    0\n",
       "486    0\n",
       "487    0\n",
       "488    0\n",
       "Name: impacted_workforce_percentage, Length: 489, dtype: int64"
      ]
     },
     "execution_count": 15,
     "metadata": {},
     "output_type": "execute_result"
    }
   ],
   "source": [
    "# convert data type\n",
    "df['impacted_workforce_percentage'] = df['impacted_workforce_percentage'].apply(lambda x: 0 if not x.isnumeric() else int(x))\n",
    "df['impacted_workforce_percentage']"
   ]
  },
  {
   "cell_type": "code",
   "execution_count": 16,
   "metadata": {
    "colab": {
     "base_uri": "https://localhost:8080/"
    },
    "id": "Q0EFCjO-hMhz",
    "outputId": "b6bda337-eaa6-42ab-9314-8ddf6d3d44ea"
   },
   "outputs": [
    {
     "name": "stdout",
     "output_type": "stream",
     "text": [
      "<class 'pandas.core.frame.DataFrame'>\n",
      "RangeIndex: 489 entries, 0 to 488\n",
      "Data columns (total 10 columns):\n",
      " #   Column                         Non-Null Count  Dtype         \n",
      "---  ------                         --------------  -----         \n",
      " 0   company                        489 non-null    object        \n",
      " 1   total_layoffs                  489 non-null    int64         \n",
      " 2   impacted_workforce_percentage  489 non-null    int64         \n",
      " 3   reported_date                  489 non-null    datetime64[ns]\n",
      " 4   industry                       489 non-null    object        \n",
      " 5   headquarter_location           489 non-null    object        \n",
      " 6   sources                        489 non-null    object        \n",
      " 7   status                         489 non-null    object        \n",
      " 8   Month                          489 non-null    int64         \n",
      " 9   Year                           489 non-null    object        \n",
      "dtypes: datetime64[ns](1), int64(3), object(6)\n",
      "memory usage: 38.3+ KB\n"
     ]
    }
   ],
   "source": [
    "df.info()"
   ]
  },
  {
   "cell_type": "markdown",
   "metadata": {
    "id": "_X0uyeXHqj4u"
   },
   "source": [
    "Now the data is ready for exploration."
   ]
  },
  {
   "cell_type": "code",
   "execution_count": 26,
   "metadata": {},
   "outputs": [
    {
     "data": {
      "text/plain": [
       "',company,total_layoffs,impacted_workforce_percentage,reported_date,industry,headquarter_location,sources,status,Month,Year\\r\\n0,C2FO,20,2,2022-12-09,payments,ks,Kansas City Business Journal,Private,12,2022\\r\\n1,VideoAmp,0,2,2022-09-19,platforms,losangeles,Company memo,Private,9,2022\\r\\n2,Amperity,13,3,2022-08-20,analytics,seattle,Geekwire,Private,8,2022\\r\\n3,Addepar,20,3,2023-01-18,analytics,ca,Fortune,Private,1,2023\\r\\n4,Thirty Madison,24,3,2022-05-13,care,newyork,Axios,Private,5,2022\\r\\n5,NextRoll,0,3,2022-07-08,tech,sanfrancisco,Business Insider,Private,7,2022\\r\\n6,Armis Security,25,4,2022-12-08,cybersecurity,sanfrancisco,Calcalistech,Private,12,2022\\r\\n7,Foxtrot,26,4,2022-09-23,ecommerce,chicago,Chicago Business,Private,9,2022\\r\\n8,Headspace Health,50,4,2022-12-14,wellness,losangeles,Bloomberg,Private,12,2022\\r\\n9,RealSelf,11,5,2022-07-21,tech,seattle,GeekWire,Private,7,2022\\r\\n10,New Relic,110,5,2022-08-18,software,ca,MarketWatch,Private,8,2022\\r\\n11,Abra,12,5,2022-06-30,crypto,mountainview,The Block,Private,6,2022\\r\\n12,Clarify Health,15,5,2022-07-22,care,sanfrancisco,Axios,Private,7,2022\\r\\n13,Argo AI,150,5,2022-07-07,transportation,pittsburgh,TechCrunch,Private,7,2022\\r\\n14,Snyk,220,5,2022-10-24,cybersecurity,boston,Globes,Private,10,2022\\r\\n15,JOKR,50,5,2022-06-16,ecommerce,newyork,TechCrunch,Private,6,2022\\r\\n16,Project44,63,5,2022-07-15,logistics,chicago,FreightWaves,Private,7,2022\\r\\n17,Reef,750,5,2022-05-06,ecommerce,miami,The Information,Private,5,2022\\r\\n18,Outreach,0,5,2022-08-02,tech,seattle,LinkedIn,Private,8,2022\\r\\n19,Boosted Commerce,0,5,2022-07-25,ecommerce,losangeles,Business Insider,Private,7,2022\\r\\n20,Forward,0,5,2022-07-11,care,sanfrancisco,Fierce Healthcare,Private,7,2022\\r\\n21,CoinDCX,100,6,2023-01-11,cryptocurrency,india,Biometric Update,Private,1,2023\\r\\n22,Food52,20,6,2022-04-08,ecommerce,newyork,Digiday,Private,4,2022\\r\\n23,Motive,237,6,2022-12-07,productivity,sanfrancisco,Motive,Private,12,2022\\r\\n24,Canoo,58,6,2022-07-01,transportation,california,Business Insider,Private,7,2022\\r\\n25,Wonder,130,7,2022-11-30,ecommerce,newyork,The Information,Private,11,2022\\r\\n26,Argyle,20,7,2022-08-26,insurtech,newyork,TechCrunch,Private,8,2022\\r\\n27,Kabam,35,7,2022-11-09,games,sanfrancisco,TechCrunch,Private,11,2022\\r\\n28,Upstart,60,7,2022-11-01,fintech,ca,TechCrunch,Private,11,2022\\r\\n29,Gemini,68,7,2022-07-18,crypto,newyork,TechCrunch,Private,7,2022\\r\\n30,Faire,84,7,2022-11-03,retail,sanfrancisco,The Information,Private,11,2022\\r\\n31,Convoy,90,7,2022-06-09,logistics,seattle,GeekWire,Private,6,2022\\r\\n32,DataRobot,0,7,2022-08-08,intelligence,boston,Boston Globe,Private,8,2022\\r\\n33,ShipBob,0,7,2022-08-25,logistics,chicago,Business Insider,Private,8,2022\\r\\n34,ClickUp,0,7,2022-05-24,tools,sandiego,Protocol,Private,5,2022\\r\\n35,Innovaccer,120,8,2022-09-01,care,sanfrancisco,Inc42,Private,9,2022\\r\\n36,StockX,120,8,2022-06-28,ecommerce,detroit,The Information,Private,6,2022\\r\\n37,Albert,20,8,2022-06-10,fintech,losangeles,dot.LA,Private,6,2022\\r\\n38,Personetics,30,8,2023-01-05,analytics,newyork,Calcalistech,Private,1,2023\\r\\n39,Bright Machines,30,8,2022-06-28,robotics,sanfrancisco,CTech,Private,6,2022\\r\\n40,Stash Financial,32,8,2022-12-06,finance,newyork,Stash,Private,12,2022\\r\\n41,Dutchie,56,8,2022-06-06,cannabis,oregon,GeekWire,Private,6,2022\\r\\n42,Stord,59,8,2022-06-03,logistics,atlanta,Business Insider,Private,6,2022\\r\\n43,Niantic,85,8,2022-06-29,ar,sanfrancisco,Bloomberg,Private,6,2022\\r\\n44,Picsart,90,8,2022-05-17,media/entertainment,miami,The Information,Private,5,2022\\r\\n45,Jellysmack,0,8,2022-06-09,media/entertainment,newyork,Business Insider,Private,6,2022\\r\\n46,Remote,100,9,2022-07-06,tech,sanfrancisco,Publico,Private,7,2022\\r\\n47,Vox Media,169,9,2023-01-20,journalism,dc,CNN,Private,1,2023\\r\\n48,Yotpo,70,9,2022-11-16,media,newyork,Calcalistech,Private,11,2022\\r\\n49,Aura,70,9,2022-06-24,cybersecurity,boston,Bank Info Security,Private,6,2022\\r\\n50,Komodo Health,78,9,2022-12-13,analytics,sanfrancisco,TechCrunch,Private,12,2022\\r\\n51,Jellyfish US,0,9,2023-01-13,software,boston,BostonInno,Private,1,2023\\r\\n52,Khoros,120,10,2022-10-21,software,austin,Austin Business News,Private,10,2022\\r\\n53,Bonterra,140,10,2023-01-13,finance,distributed,The Nonprofit Times,Private,1,2023\\r\\n54,Chargebee,142,10,2022-11-02,saas,sanfrancisco,TechCrunch,Private,11,2022\\r\\n55,6sense,150,10,2022-10-12,learning,sanfrancisco,MoneyControl,Private,10,2022\\r\\n56,Relativity,150,10,2022-12-07,enterprise,chicago,Crain\\'s Chicago,Private,12,2022\\r\\n57,TIFIN,21,10,2022-06-14,fintech,boulder,Axios,Private,6,2022\\r\\n58,Lusha,30,10,2022-07-18,tech,newyork,CTech,Private,7,2022\\r\\n59,Aqua Security,65,10,2022-12-05,security,ma,Calcalistech,Private,12,2022\\r\\n60,Spin,78,10,2022-09-30,transportation,sanfrancisco,TechCrunch,Private,9,2022\\r\\n61,Verbit,80,10,2022-07-05,processing,newyork,CTech,Private,7,2022\\r\\n62,ZenLedger,0,10,2022-12-09,cryptocurrency,wa,Blockworks,Private,12,2022\\r\\n63,Firework,0,10,2022-11-29,retail,sanfrancisco,The Information,Private,11,2022\\r\\n64,Mythical Games,0,10,2022-11-04,blockchain,losangeles,Bloomberg,Private,11,2022\\r\\n65,Apartment List,0,10,2022-08-31,proptech,sanfrancisco,CEO Matthew Woods,Private,8,2022\\r\\n66,impact.com,0,10,2022-08-25,marketing,ca,impact.com,Private,8,2022\\r\\n67,80 Acres Farms,0,10,2023-01-18,agtech,oh,CincinnatiInno,Private,1,2023\\r\\n68,98point6,0,10,2022-07-21,care,seattle,GeekWire,Private,7,2022\\r\\n69,Gemini,0,10,2022-06-02,crypto,newyork,Bloomberg,Private,6,2022\\r\\n70,Side,0,10,2022-06-01,proptech,sanfrancisco,Inman,Private,6,2022\\r\\n71,Carta,200,10,2023-01-11,fintech,sanfrancisco,TechCrunch,Private,1,2023\\r\\n72,ConsenSys,100,11,2023-01-10,fintech,newyork,CoinDesk,Private,1,2023\\r\\n73,Tipalti,123,11,2023-01-11,fintech,sanmateo,Calcalistech,Private,1,2023\\r\\n74,Brex,136,11,2022-10-11,fintech,sanfrancisco,TechCrunch,Private,10,2022\\r\\n75,Salsify,90,11,2022-11-16,ecommerce,boston,Boston Business Journal,Private,11,2022\\r\\n76,SADA,0,11,2022-11-08,it,losangeles,SADA CEO,Private,11,2022\\r\\n77,Momentive,0,11,2022-10-14,technology,mi,TechCrunch,Private,10,2022\\r\\n78,Automox,0,11,2022-04-18,security,boulder,LinkedIn,Private,4,2022\\r\\n79,Klarna,750,12,2022-09-22,fintech,stockholm,Sifted,Private,9,2022\\r\\n80,JumpCloud,100,12,2023-01-18,cybersecurity,co,JumpCloud,Private,1,2023\\r\\n81,Chime,156,12,2022-11-02,fintech,sanfrancisco,The Information,Private,11,2022\\r\\n82,Embroker,30,12,2022-10-25,insurtech,sanfrancisco,The Insurer,Private,10,2022\\r\\n83,Divvy Homes,40,12,2022-09-27,proptech,sanfranicsco,The Information,Private,9,2022\\r\\n84,Ethos Life,40,12,2022-06-24,insurtech,sanfrancisco,Coverager,Private,6,2022\\r\\n85,GoFundMe,94,12,2022-10-26,crowdfunding,ca,GoFundMe,Private,10,2022\\r\\n86,Digital Currency Group,10,13,2022-11-02,cryptocurrency,ct,Coindesk,Private,11,2022\\r\\n87,Intercom,124,13,2022-11-14,automation,sanfranicsco,Silicon Republic,Private,11,2022\\r\\n88,SundaySky,24,13,2022-07-11,software,newyork,Globes,Private,7,2022\\r\\n89,Chipper Cash,50,13,2022-12-06,transfer,sanfrancisco,TechCrunch,Private,12,2022\\r\\n90,Udacity,55,13,2022-10-11,intelligence,ca,Udacity,Private,10,2022\\r\\n91,Sourcepoint,7,13,2022-06-02,tech,newyork,Crunchbase News reporting,Private,6,2022\\r\\n92,Thirty Madison,0,13,2022-08-18,wellness,greaternewyorkarea,Fierce Healthcare,Private,8,2022\\r\\n93,Sendoso,100,14,2022-06-06,automation,sanfrancisco,Business Insider,Private,6,2022\\r\\n94,Malwarebytes,125,14,2022-08-17,software,sanfrancisco,TechCrunch,Private,8,2022\\r\\n95,Substack,13,14,2022-06-29,creators,sanfrancisco,New York Times,Private,6,2022\\r\\n96,Morning Brew,0,14,2022-11-17,news,newyork,Max Tani,Private,11,2022\\r\\n97,Benitago Group,0,14,2022-11-04,retail,newyork,TechCrunch,Private,11,2022\\r\\n98,Juniper Square,0,14,2022-09-06,proptech,sanfrancisco,The Real Deal,Private,9,2022\\r\\n99,Nayya,16,15,2022-06-17,tech,newyork,Crunchbase News reporting,Private,6,2022\\r\\n100,Verily,250,15,2023-01-11,collection,sanfrancisco,The Information,Private,1,2023\\r\\n101,CyCognito,30,15,2022-12-08,cybersecurity,paloalto,Calcalistech,Private,12,2022\\r\\n102,Zumper,45,15,2022-06-16,proptech,sanfrancisco,The Real Deal,Private,6,2022\\r\\n103,Polly,47,15,2022-12-02,fintech,vt,VT Digger,Private,12,2022\\r\\n104,Woven,5,15,2022-08-16,recruiting,indianapolis,AdAge,Private,8,2022\\r\\n105,The Mom Project,54,15,2022-07-20,marketplace,chicago,LinkedIn,Private,7,2022\\r\\n106,SonderMind,0,15,2022-12-16,telehealth,denver,Denver Business Journal,Private,12,2022\\r\\n107,Apollo,0,15,2022-12-15,software,sanfrancisco,Apollo,Private,12,2022\\r\\n108,Code42,0,15,2022-11-07,software,minneapolis,Star Tribune,Private,11,2022\\r\\n109,Flowhub,0,15,2022-09-09,cannabis,dever,Business Insider,Private,9,2022\\r\\n110,Daily Harvest,0,15,2022-08-08,ecommerce,newyorkcity,Fortune,Private,8,2022\\r\\n111,Rock Content,0,15,2023-01-12,advertising,fl,Terra,Private,1,2023\\r\\n112,Lattice,0,15,2023-01-12,hr,sanfrancisco,Lattice CEO Jack Altman,Private,1,2023\\r\\n113,Citrix Systems,0,15,2023-01-10,saas,fl,TechCrunch,Private,1,2023\\r\\n114,WHOOP,0,15,2022-07-21,fitness,boston,Front Office Sports,Private,7,2022\\r\\n115,Papa,0,15,2022-07-14,care,miami,LinkedIn,Private,7,2022\\r\\n116,Sundae,0,15,2022-06-28,estate,sanfrancisco,Real Trends,Private,6,2022\\r\\n117,TruePill,0,15,2022-06-08,care,california,TruePill,Private,6,2022\\r\\n118,Terminus,0,15,2022-05-27,marketing,atlanta,LinkedIn,Private,5,2022\\r\\n119,Outside Inc,0,15,2022-05-20,media/entertainment,boulder,Denver Business Journal,Private,5,2022\\r\\n120,Stream,20,15,2022-06-30,infrastructure,boulder,Pragmatic Engineer,Private,6,2022\\r\\n121,Carbon Health,450,16,2023-01-06,care,sanfrancisco,Carbon Health CEO Eren Bali,Private,1,2023\\r\\n122,Jam City,200,17,2022-08-04,gaming,culvercity,VentureBeat,Private,8,2022\\r\\n123,Next Insurance,150,17,2022-07-07,insurtech,paloalto,CTech,Private,7,2022\\r\\n124,OwnBackup,170,17,2022-11-15,software,nj,Calcalistech,Private,11,2022\\r\\n125,Everlane,30,17,2023-01-05,ecommerce,sanfrancisco,The Information,Private,1,2023\\r\\n126,Patreon,80,17,2022-09-13,media,sanfrancisco,The Information,Private,9,2022\\r\\n127,Recharge,84,17,2022-10-27,fintech,losangeles,Recharge CEO,Private,10,2022\\r\\n128,Nextiva,0,17,2022-12-06,service,phoenix,Channel Futures,Private,12,2022\\r\\n129,Grove Collaborative,0,17,2022-03-29,ecommerce,sanfrancisco,Retail Dive,Private,3,2022\\r\\n130,Lithic,27,18,2022-12-07,fintech,newyork,Axios,Private,12,2022\\r\\n131,SQream Technologies,30,18,2022-07-06,analytics,newyork,CTech,Private,7,2022\\r\\n132,Emotive,30,18,2022-07-07,marketing,losangeles,dot.LA,Private,7,2022\\r\\n133,Amount,0,18,2022-06-27,fintech,chicago,TechCrunch,Private,6,2022\\r\\n134,Ro,0,18,2022-06-23,care,newyork,TechCrunch,Private,6,2022\\r\\n135,Socure,104,19,2023-01-05,analytics,nv,Biometric Update,Private,1,2023\\r\\n136,Postscript,43,19,2022-06-26,marketing,sanfrancisco,Alex Beller,Private,6,2022\\r\\n137,Qumolo,80,19,2022-06-29,storage,seattle,GeekWire,Private,6,2022\\r\\n138,OfferUp,0,19,2022-11-15,marketplace,wa,GeekWire,Private,11,2022\\r\\n139,Change.org,0,19,2022-07-28,civictech,sanfrancisco,Change.org,Private,7,2022\\r\\n140,HomeLight,0,19,2022-06-29,estate,sanfrancisco,The Real Deal,Private,6,2022\\r\\n141,Homeward,120,20,2022-08-11,proptech,austin,The Real Deal,Private,8,2022\\r\\n142,Turntide,130,20,2022-07-28,energy,ca,Business Insider,Private,7,2022\\r\\n143,Flyhomes,150,20,2022-07-20,proptech,seattle,GeekWire,Private,7,2022\\r\\n144,Curology,150,20,2022-03-16,ecommerce,sanfrancisco,SF Business Times,Private,3,2022\\r\\n145,MasterClass,156,20,2022-06-22,edtech,sanfrancisco,MasterClass CEO David Rogier,Private,6,2022\\r\\n146,Lacework,200,20,2022-05-26,cybersecurity,sanjose,The Information,Private,5,2022\\r\\n147,Equitybee,25,20,2022-10-31,fintech,sanfrancisco,Calcalistech,Private,10,2022\\r\\n148,Airtable,254,20,2022-12-08,enterprise,sanfrancisco,Airtable,Private,12,2022\\r\\n149,Plaid,260,20,2022-12-07,fintech,sanfrancisco,TechCrunch,Private,12,2022\\r\\n150,Nate,30,20,2022-08-30,ecommerce,newyork,The Information,Private,8,2022\\r\\n151,Coterie Insurance,30,20,2022-05-27,insurtech,cincinnati,CincyInno,Private,5,2022\\r\\n152,Intrinsic,40,20,2023-01-11,ai,ca,This Information,Private,1,2023\\r\\n153,Rhino,57,20,2022-02-03,insurtech,newyork,The Real Deal,Private,2,2022\\r\\n154,Flexport,640,20,2023-01-11,logistics,sanfrancisco,CNBC,Private,1,2023\\r\\n155,Redesign Health,67,20,2022-10-10,care,newyork,Fast Company,Private,10,2022\\r\\n156,Astronomer,76,20,2023-01-04,services,cincinnati,Astronomer,Private,1,2023\\r\\n157,Calm,90,20,2022-08-11,wellness,sanfrancisco,Wall Street Journal,Private,8,2022\\r\\n158,Shippo,0,20,2022-11-03,logistics,sanfrancisco,Shippo CEO,Private,11,2022\\r\\n159,Brightline,0,20,2022-11-01,care,ca,Behavioral Health Business,Private,11,2022\\r\\n160,Scale,0,20,2023-01-09,recognition,sanfrancisco,Scale,Private,1,2023\\r\\n161,OpenSea,0,20,2022-07-14,marketplace,newyork,Devin Finzer,Private,7,2022\\r\\n162,Buzzer,0,20,2022-06-20,sports,newyork,Sportico,Private,6,2022\\r\\n163,Greenlight,104,21,2023-01-12,banking,atlanta,TechCrunch,Private,1,2023\\r\\n164,Flipboard,24,21,2022-10-16,news,ca,Axios,Private,10,2022\\r\\n165,Advata,32,21,2022-10-28,analytics,wa,GeekWire,Private,10,2022\\r\\n166,Superhuman,23,22,2022-06-03,software,sanfrancisco,CEO Rahul Vohra,Private,6,2022\\r\\n167,Exodus,59,22,2022-11-04,blockchain,ne,Exodus CEO,Private,11,2022\\r\\n168,Tonkean,23,23,2022-06-15,software,sanfrancisco,The Marker,Private,6,2022\\r\\n169,Lokalise,76,23,2022-11-16,apis,de,Lokalise founders,Private,11,2022\\r\\n170,Karbon,0,23,2022-09-12,management,sanfrancisco,\"Stuart McLeod, CEO of Karbon\",Private,9,2022\\r\\n171,Loom,57,24,2022-10-20,communication,sanfrancisco,SFGate,Private,10,2022\\r\\n172,Cedar,0,24,2022-07-07,care,newyork,Business Insider,Private,7,2022\\r\\n173,Hyperscience,100,25,2022-03-03,ai,newyork,The Information,Private,3,2022\\r\\n174,Celsius,150,25,2022-07-03,crypto,newjersey,CTech,Private,7,2022\\r\\n175,Baton,16,25,2022-06-29,logistics,sanfrancisco,Freight Waves,Private,6,2022\\r\\n176,Policygenius,170,25,2022-06-02,insurtech,newyork,TechCrunch,Private,6,2022\\r\\n177,IRL,25,25,2022-06-02,media,sanfrancisco,TechCrunch,Private,6,2022\\r\\n178,Vise,25,25,2022-05-04,fintech,newyork,CityWire,Private,5,2022\\r\\n179,Section4,32,25,2022-05-12,edtech,newyork,TechCrunch,Private,5,2022\\r\\n180,Capitolis,37,25,2022-11-17,fintech,newyork,Calcalistech,Private,11,2022\\r\\n181,On Deck,72,25,2022-05-05,development,sanfrancisco,TechCrunch,Private,5,2022\\r\\n182,Outschool,74,25,2022-12-10,edtech,sanfrancisco,TechCrunch,Private,12,2022\\r\\n183,OneTrust,950,25,2022-06-09,cybersecurity,atlanta,OneTrust,Private,6,2022\\r\\n184,OneStudyTeam,0,25,2022-12-06,infrastructure,boston,Mobi Health News,Private,12,2022\\r\\n185,Homeward,0,25,2022-11-16,proptech,tx,Homeward,Private,11,2022\\r\\n186,Medium,0,25,2022-09-06,publishing,sanfrancisco,\"Lauren Newton, Head of People at Medium\",Private,9,2022\\r\\n187,SafeGraph,27,25,2022-06-27,learning,sanfrancisco,SafeGraph,Private,6,2022\\r\\n188,DataRobot,0,26,2022-08-23,software,boston,The Information,Private,8,2022\\r\\n189,EquityZen,30,27,2022-10-31,fintech,newyork,Axios,Private,10,2022\\r\\n190,Clear Capital,378,27,2022-10-14,proptech,ca,TechCrunch,Private,10,2022\\r\\n191,Shelf Engine,43,29,2022-07-29,tech,seattle,GeekWire,Private,7,2022\\r\\n192,Veev,100,30,2022-11-11,proptech,sanmateo,Calcalistech,Private,11,2022\\r\\n193,Pacaso,100,30,2022-10-11,proptech,sanfrancisco,Inman,Private,10,2022\\r\\n194,Snappy,100,30,2023-01-13,benefits,newyork,Calcalistech,Private,1,2023\\r\\n195,Kraken,1100,30,2022-11-30,cryptocurrency,sanfrancisco,Kraken,Private,11,2022\\r\\n196,AtoB,32,30,2022-10-19,fintech,sanfrancisco,SFGate,Private,10,2022\\r\\n197,Genesis,60,30,2023-01-05,blockchain,newyork,CNBC,Private,1,2023\\r\\n198,Almanac,0,30,2022-08-13,productivity,sanfrancisco,LinkedIn,Private,8,2022\\r\\n199,SuperRare,0,30,2023-01-06,cryptocurrency,de,TechCrunch,Private,1,2023\\r\\n200,Homie,162,32,2022-10-04,proptech,utah,\"TechCrunch, Crunchbase News reporting\",Private,10,2022\\r\\n201,Socure,173,32,2023-01-05,verification,reno,Biometric Update,Private,1,2023\\r\\n202,Bolt,250,33,2022-05-25,fintech,sanfrancisco,Fortune,Private,5,2022\\r\\n203,Candy Digital,33,33,2022-11-28,cryptocurrency,newyork,Decrypt,Private,11,2022\\r\\n204,Ideoclick,40,33,2022-05-04,ecommerce,seattle,Puget Sound Business Journal,Private,5,2022\\r\\n205,Brave Care,40,33,2022-09-06,telehealth,portland,The Oregonian,Private,9,2022\\r\\n206,Tomo,44,33,2022-05-31,proptech,stamford,Business Insider,Private,5,2022\\r\\n207,MainStreet,50,33,2022-05-04,fintech,sanjose,Insider,Private,5,2022\\r\\n208,Replicated,50,33,2022-05-31,software,losangeles,Replicated,Private,5,2022\\r\\n209,Hologram,80,33,2022-06-09,iot,chicago,Crain\\'s Chicago Business,Private,6,2022\\r\\n210,Esper,0,33,2023-01-10,devops,seattle,GeekWire,Private,1,2023\\r\\n211,TruePill,0,33,2022-09-30,care,ca,TechCrunch,Private,9,2022\\r\\n212,Happy Money,158,34,2022-11-30,payments,losangeles,LinkedIn reports,Private,11,2022\\r\\n213,Tonal,262,35,2022-07-13,fitness,sanfrancisco,CNBC,Private,7,2022\\r\\n214,Hydrow,70,35,2022-07-21,fitness,boston,Boston Globe,Private,7,2022\\r\\n215,Callisto Media,0,35,2022-10-25,analytics,california,Publishers Weekly,Private,10,2022\\r\\n216,Lunchbox,0,37,2023-01-10,tech,newyork,Business Insider,Private,1,2023\\r\\n217,Fabric,120,40,2022-07-13,logistics,newyork,TechCrunch,Private,7,2022\\r\\n218,Rasa,59,40,2022-04-04,intelligence,sanfrancisco,Business Insider,Private,4,2022\\r\\n219,NCX,0,40,2022-11-28,forestry,sanfrancisco,NCX,Private,11,2022\\r\\n220,Fundbox,150,42,2022-10-25,fintech,sanfrancisco,Calcalistech,Private,10,2022\\r\\n221,Zeus Living,64,46,2022-10-20,proptech,sanfrancisco,San Francisco Business Journal,Private,10,2022\\r\\n222,Knock,0,46,2022-03-15,proptech,newyork,The Real Deal,Private,3,2022\\r\\n223,Ocavu,20,48,2022-11-10,cryptocurrency,ut,Salt Lake Tribune,Private,11,2022\\r\\n224,Better.com,5000,50,2022-04-19,fintech,newyork,TechCrunch,Private,4,2022\\r\\n225,Virgin Hyperloop,111,50,2022-02-22,transporation,losangeles,Fortune,Private,2,2022\\r\\n226,Notarize,170,50,2022-10-31,tech,boston,Boston Business Journal,Private,10,2022\\r\\n227,Iron Ox,50,50,2022-11-02,beverage,sanfrancisco,TechCrunch,Private,11,2022\\r\\n228,BloomTech,88,50,2022-12-01,edtech,sanfrancisco,TechCrunch,Private,12,2022\\r\\n229,Medly Pharmacy,0,50,2022-09-07,care,newyork,Crain\\'s New York,Private,9,2022\\r\\n230,Bizzabo,220,60,2022-12-01,event,newyork,Calcalistech,Private,12,2022\\r\\n231,Parler,60,75,2023-01-10,media,tn,The Verge,Private,1,2023\\r\\n232,Mojo Vision,0,75,2023-01-06,care,ca,TechCrunch,Private,1,2023\\r\\n233,Uniphore,76,76,2023-01-03,learning,ca,Outlook Start-Up,Private,1,2023\\r\\n234,Butler Hospitality,1000,100,2022-07-08,hospitality,newyork,TechCrunch,Private,7,2022\\r\\n235,SummerBio,101,100,2022-06-20,diagnostics,menlopark,Bay Area Inno,Private,6,2022\\r\\n236,Reali,140,100,2022-08-24,proptech,ca,Calcalistech,Private,8,2022\\r\\n237,Fast,400,100,2022-04-05,fintech,sanfrancisco,The Information,Private,4,2022\\r\\n238,Protocol Media,60,100,2022-11-15,media,sanfrancisco,CNN,Private,11,2022\\r\\n239,WanderJaunt,85,100,2022-07-01,estate,sanfrancisco,Short Term Rentalz,Private,7,2022\\r\\n240,Wyre,0,100,2023-01-04,blockchain,sanfrancisco,Blockworks,Private,1,2023\\r\\n241,Lantern,0,100,2023-01-06,lending,mi,Lantern CEO Meredith Mahoney,Private,1,2023\\r\\n242,Lora DiCarlo Inc.,0,100,2022-12-02,goods,or,TechCrunch,Private,12,2022\\r\\n243,Bitfront,0,100,2022-11-29,cryptocurrency,ca,Reuters,Private,11,2022\\r\\n244,Assure,0,100,2022-11-23,fintech,saltlakecity,Axios,Private,11,2022\\r\\n245,GloriFi,0,100,2022-11-21,fintech,dallas,WSJ,Private,11,2022\\r\\n246,Kite,0,100,2022-11-16,coding,sanfrancisco,Kite,Private,11,2022\\r\\n247,Wavely,0,100,2022-11-10,hr,ca,Wavely,Private,11,2022\\r\\n248,Fifth Season,0,100,2022-10-28,farming,pittsburgh,Pittsburgh Business Journal,Private,10,2022\\r\\n249,Argo AI,0,100,2022-10-26,transportation,pittsburgh,TechCrunch,Private,10,2022\\r\\n250,CommonBond,0,100,2022-09-09,repayments,newyork,\"David Klein, CEO of CommonBond\",Private,9,2022\\r\\n251,The Wing,0,100,2022-08-31,coworking,newyork,The Information,Private,8,2022\\r\\n252,Edmodo,0,100,2022-08-16,edtech,ca,EdSurge,Private,8,2022\\r\\n253,Haus,0,100,2022-08-08,beverage,ca,TechCrunch,Private,8,2022\\r\\n254,BlockFi,0,100,2022-11-28,crypto,jerseycity,Decrypt,Private,11,2022\\r\\n255,Pesto,0,100,2022-09-23,work,sanfrancisco,Pesto announcement,Private,9,2022\\r\\n256,Kitty Hawk,0,100,2022-09-21,aerospace,mountainview,CNBC,Private,9,2022\\r\\n257,Subspace,0,100,2022-05-13,media/entertainment,losangeles,LinkedIn,Private,5,2022\\r\\n258,Halcyon Health,0,100,2022-04-15,care,newyork,Axios,Private,4,2022\\r\\n259,Ahead,0,100,2022-04-14,care,ca,Bloomberg,Private,4,2022\\r\\n260,100 Thieves,12,0,2023-01-10,media,losangeles,Dexerto,Private,1,2023\\r\\n261,Orbit,14,0,2022-08-12,software,sanfrancisco,Orbit CEO Patrick Woods,Private,8,2022\\r\\n262,Cybereason,100,0,2022-06-01,cybersecurity,boston,CTech,Private,6,2022\\r\\n263,Progrexion,100,0,2022-06-07,fintech,saltlakecity,Crunchbase News,Private,6,2022\\r\\n264,Gem,100,0,2022-11-02,recruiting,sanfrancisco,Gem CEO,Private,11,2022\\r\\n265,Glossier,104,0,2022-08-02,beauty,newyork,Modern Retail,Private,8,2022\\r\\n266,Stripe,1050,0,2022-11-03,fintech,sanfrancisco,Bloomberg,Private,11,2022\\r\\n267,Curative,109,0,2022-09-20,diagnostics,losangeles,Digital Health,Private,9,2022\\r\\n268,Noom,1095,0,2022-10-11,health,newyork,TechCrunch,Private,10,2022\\r\\n269,Homepoint,113,0,2022-11-17,proptech,sc,Phoenix Business Journal,Private,11,2022\\r\\n270,Arc,13,0,2022-07-20,tech,mountainview,LinkedIn,Private,7,2022\\r\\n271,ChowNow,140,0,2022-12-14,tech,california,Restaurant Business Online,Private,12,2022\\r\\n272,Healthcare.com,149,0,2022-08-03,insurtech,fl,Miami Inno,Private,8,2022\\r\\n273,Finite State,16,0,2022-06-17,cybersecurity,columbus,ColumbusInno,Private,6,2022\\r\\n274,Rad Power Bikes,163,0,2022-07-21,transporation,seattle,GeekWire,Private,7,2022\\r\\n275,Cameo,167,0,2022-05-04,media/entertainment,chicago,The Information,Private,5,2022\\r\\n276,Weedmaps,175,0,2022-12-06,marketing,ca,Business Insider,Private,12,2022\\r\\n277,Orchard,180,0,2022-11-17,proptech,newyork,Inman,Private,11,2022\\r\\n278,Clyde,19,0,2022-04-25,ecommerce,newyork,External Spreadsheet,Private,4,2022\\r\\n279,AvantStay,224,0,2022-11-09,travel,losangeles,Skift,Private,11,2022\\r\\n280,Booking.com,226,0,2022-11-01,hotels,mi,Crain\\'s Detroit Business,Private,11,2022\\r\\n281,Aspire,23,0,2022-07-15,tech,sanfrancisco,Business Insider,Private,7,2022\\r\\n282,Gopuff,2300,0,2022-10-21,ecommerce,philadelphia,\"Bloomberg, The Information\",Private,10,2022\\r\\n283,Eaze,25,0,2022-06-02,cannabis,sanfrancisco,Business Insider,Private,6,2022\\r\\n284,Nuro,310,0,2022-11-18,transportation,mountainview,The Robot Report,Private,11,2022\\r\\n285,Citizen,33,0,2023-01-11,surveillance,newyork,TechCrunch,Private,1,2023\\r\\n286,Balto,35,0,2022-12-12,learning,st.louis,St. Louis Business Journal,Private,12,2022\\r\\n287,Hopin,370,0,2022-07-11,event,london,TechCrunch,Private,7,2022\\r\\n288,Vial,40,0,2023-01-13,trials,sanfrancisco,Business Insider,Private,1,2023\\r\\n289,Wistia,40,0,2022-11-10,marketing,ma,Wistia CEO,Private,11,2022\\r\\n290,FreshDirect,40,0,2022-08-25,ecommerce,ny,Philadelphia Business Journal,Private,8,2022\\r\\n291,Adwerx,40,0,2022-07-12,marketing,northcarolina,Inman,Private,7,2022\\r\\n292,Community,40,0,2022-06-22,media,losangeles,Business Insider,Private,6,2022\\r\\n293,Esme Learning,40,0,2022-06-02,edtech,massachusetts,\"Esme Learning, Crunchbase News reporting\",Private,6,2022\\r\\n294,Luxury Presence,44,0,2023-01-17,advertising,ca,Inman,Private,1,2023\\r\\n295,Hubilo,45,0,2022-07-12,events,sanfrancisco,Inc42,Private,7,2022\\r\\n296,Olive,450,0,2022-07-19,care,columbus,Olive,Private,7,2022\\r\\n297,Imperfect Foods,50,0,2022-08-01,service,sanfrancisco,San Francisco Business Times,Private,8,2022\\r\\n298,Tempo Automation,54,0,2022-08-17,automotive,sanfrancisco,San Francisco Business Times,Private,8,2022\\r\\n299,Chili Piper,58,0,2022-11-17,productivity,newyork,Chili Piper,Private,11,2022\\r\\n300,On Deck,73,0,2022-08-04,development,sanfrancisco,TechCrunch,Private,8,2022\\r\\n301,Varo,75,0,2022-07-20,fintech,sanfrancisco,Axios,Private,7,2022\\r\\n302,Nylas,80,0,2022-08-02,api,sanfrancisco,Nylas,Private,8,2022\\r\\n303,Career Karma,82,0,2023-01-12,network,sanfrancisco,TechCrunch,Private,1,2023\\r\\n304,Rev.com,85,0,2022-10-07,intelligence,sanfrancisco,Austin American-Statesman,Private,10,2022\\r\\n305,The Zebra,90,0,2022-11-15,fintech,tx,Coverager,Private,11,2022\\r\\n306,Colossus,97,0,2022-05-20,software,massachusetts,Axios,Private,5,2022\\r\\n307,OnlyFans,0,0,2022-08-01,economy,london,Business Insider,Private,8,2022\\r\\n308,Talkdesk,0,0,2022-05-19,service,sanfrancisco,Confirmed by CB News from source,Private,5,2022\\r\\n309,StubHub,0,0,2022-08-04,ticketing,sanfrancisco,StubHub on LinkedIn,Private,8,2022\\r\\n310,Cerebral,0,0,2022-10-24,care,sanfrancisco,Wall Street Journal,Private,10,2022\\r\\n311,Elemy,0,0,2022-12-05,care,sanfrancisco,Behavioral Health Business,Private,12,2022\\r\\n312,TikTok,0,0,2022-07-18,media,losangeles,Wired,Private,7,2022\\r\\n313,RateGenius,0,0,2023-01-17,fintech,tx,AustinInno,Private,1,2023\\r\\n314,GoCanvas,0,0,2023-01-13,software,va,GoCanvas CEO Viyas Sundaram,Private,1,2023\\r\\n315,CoSchedule,0,0,2023-01-13,marketing,nd,Inforum,Private,1,2023\\r\\n316,Oyster,0,0,2023-01-11,saas,nc,Oyster,Private,1,2023\\r\\n317,Embark,0,0,2023-01-11,care,boston,Embark CEP Ryan Boyko,Private,1,2023\\r\\n318,Cart.com,0,0,2023-01-10,dtc,tx,AustinInno,Private,1,2023\\r\\n319,CreateMe Technologies,0,0,2023-01-06,apparel,ny,San Francisco Business Times,Private,1,2023\\r\\n320,CareerArc,0,0,2023-01-06,recruiting,losangeles,CareerArc,Private,1,2023\\r\\n321,Autograph,0,0,2022-12-16,blockchain,ca,Business Insider,Private,12,2022\\r\\n322,Convene,0,0,2022-12-10,hospitality,newyork,Convene CEO Ryan Simonetti,Private,12,2022\\r\\n323,Autobooks,0,0,2022-12-10,payments,detroit,Crain\\'s Detroit Business,Private,12,2022\\r\\n324,Zywave,0,0,2022-12-07,computing,milwaukee,Milwaukee Business Journal,Private,12,2022\\r\\n325,CircleCI,0,0,2022-12-07,it,sanfrancisco,CircleCI,Private,12,2022\\r\\n326,Route,0,0,2022-12-05,ecommerce,ut,Salt Lake Tribune,Private,12,2022\\r\\n327,Inspectify,0,0,2022-11-28,proptech,seattle,Puget Sound Business Journal,Private,11,2022\\r\\n328,Storyblocks,0,0,2022-11-18,editing,dc,Storyblocks CEO,Private,11,2022\\r\\n329,Metaplex,0,0,2022-11-18,cryptocurrency,chicago,AMBCrypto,Private,11,2022\\r\\n330,Kandji,0,0,2022-11-17,software,sandiego,LinkedIn reports,Private,11,2022\\r\\n331,Reforge,0,0,2022-11-10,tech,sanfrancisco,Reforge CEO,Private,11,2022\\r\\n332,Amobee,0,0,2022-11-09,marketing,ca,Amobee,Private,11,2022\\r\\n333,Domino Data Lab,0,0,2022-11-07,data,sanfrancisco,LinkedIn reports,Private,11,2022\\r\\n334,Spreetail,0,0,2022-10-27,ecommerce,ne,Spreetail CEO,Private,10,2022\\r\\n335,TigerGraph,0,0,2022-10-25,analytics,ca,Sources within the company,Private,10,2022\\r\\n336,Clever Real Estate,0,0,2022-10-19,proptech,st.louis,St. Louis Business Journal,Private,10,2022\\r\\n337,Noodle,0,0,2022-10-18,edtech,newyork,LinkedIn,Private,10,2022\\r\\n338,Built In,0,0,2022-10-05,networking,chicago,LinkedIn,Private,10,2022\\r\\n339,Instacart,0,0,2022-09-24,ecommerce,sanfrancisco,The Information,Private,9,2022\\r\\n340,DayTwo,0,0,2022-09-15,nutrition,ca,Calcalistech,Private,9,2022\\r\\n341,WorkRamp,0,0,2022-09-15,software,ca,LinkedIn,Private,9,2022\\r\\n342,Sundae,0,0,2022-09-13,proptech,sanfrancisco,Confirmed by CB News from sources,Private,9,2022\\r\\n343,Sama,0,0,2022-09-12,software,sanfrancisco,Sama,Private,9,2022\\r\\n344,DreamBox Learning,0,0,2022-09-09,edtech,seattle,Geekwire,Private,9,2022\\r\\n345,FullStory,0,0,2022-09-08,data,atlanta,\"Scott Voigt, CEO of FullStory\",Private,9,2022\\r\\n346,realtor.com,0,0,2022-09-08,proptech,ca,SFGate,Private,9,2022\\r\\n347,Fungible,0,0,2022-08-29,cryptocurrency,ca,Blocks & Files,Private,8,2022\\r\\n348,Pix,0,0,2022-08-24,foodtech,ca,San Francisco Chronicle,Private,8,2022\\r\\n349,People.ai,0,0,2022-07-26,sales,sanfrancisco,LinkedIn,Private,7,2022\\r\\n350,Capsule,0,0,2022-07-21,care,newyork,Crain\\'s New York,Private,7,2022\\r\\n351,InVision,0,0,2022-07-21,apps,newyork,LinkedIn,Private,7,2022\\r\\n352,Alto Pharmacy,0,0,2022-07-14,care,sanfrancisco,LinkedIn,Private,7,2022\\r\\n353,Spring,0,0,2022-07-13,ecommerce,sanfrancisco,Business Insider,Private,7,2022\\r\\n354,Nextbite,0,0,2022-07-08,tech,denver,Business Insider,Private,7,2022\\r\\n355,LetsGetChecked,0,0,2022-07-02,care,newyork,Business Post,Private,7,2022\\r\\n356,Teleport,0,0,2022-07-01,infrastructure,oakland,Teleport,Private,7,2022\\r\\n357,Modsy,0,0,2022-06-29,ecommerce,sanfrancisco,TechCrunch,Private,6,2022\\r\\n358,Degreed,0,0,2022-06-29,edtech,ca,LinkedIn,Private,6,2022\\r\\n359,Keepe,0,0,2022-06-10,proptech,seattle,GeekWire,Private,6,2022\\r\\n360,Liongard,0,0,2022-06-10,infrastructure,houston,CRN,Private,6,2022\\r\\n361,Deep Instinct,0,0,2022-06-08,cybersecurity,newyork,Crunchbase News,Private,6,2022\\r\\n362,ID.Me,0,0,2022-06-07,verification,virginia,Business Insider,Private,6,2022\\r\\n363,Clubhouse,0,0,2022-06-03,audio,sanfrancisco,Bloomberg,Private,6,2022\\r\\n364,Zwift,0,0,2022-05-12,fitness,longbeach,DC Rainmaker,Private,5,2022\\r\\n365,Tripwire,0,0,2022-05-12,security,portland,OregonLive,Private,5,2022\\r\\n366,Mural,0,0,2022-05-06,design,sanfrancisco,Protocol,Private,5,2022\\r\\n367,Thrasio,0,0,2022-05-02,ecommerce,ma,Insider,Private,5,2022\\r\\n368,Workrise,0,0,2022-04-05,marketplace,tx,TechCrunch,Private,4,2022\\r\\n369,F5,100,1,2022-10-21,software,seattle,GeekWire,Public,10,2022\\r\\n370,Affirm,0,1,2022-11-03,loans,sanfrancisco,The Information,Public,11,2022\\r\\n371,Freshworks,90,2,2022-12-15,it,ca,Inc42,Public,12,2022\\r\\n372,Coursera,32,3,2022-11-09,edtech,ca,Coursera CEO,Public,11,2022\\r\\n373,Outbrain,38,3,2022-07-26,marketing,newyork,CTech,Public,7,2022\\r\\n374,WalkMe,43,3,2023-01-08,management,sanfrancisco,Calcalistech,Public,1,2023\\r\\n375,Amdocs,700,3,2023-01-02,software,mo,Calcalistech,Public,1,2023\\r\\n376,Nutanix,270,4,2022-08-10,software,sanjose,SFGate,Public,8,2022\\r\\n377,Varonis Systems,110,5,2022-11-06,cybersecurity,newyork,Calcalistech,Public,11,2022\\r\\n378,Amazon,18000,5,2023-01-05,saas,seattle,Wall Street Journal,Public,1,2023\\r\\n379,Zillow,300,5,2022-10-26,proptech,seattle,TechCrunch,Public,10,2022\\r\\n380,Zendesk,350,5,2022-11-07,service,sanfrancisco,SFGate,Public,11,2022\\r\\n381,Cisco,4100,5,2022-11-16,saas,ca,Silicon Valley Business Journal,Public,11,2022\\r\\n382,TechTarget,60,5,2022-12-08,marketing,ma,MarketWatch,Public,12,2022\\r\\n383,BlackLine,95,5,2022-12-08,software,losangeles,Seeking Alpha,Public,12,2022\\r\\n384,Sweetgreen,0,5,2022-08-09,restaurants,dc,CNBC,Public,8,2022\\r\\n385,Taboola,100,6,2022-09-13,marketing,newyork,Calcalistech,Public,9,2022\\r\\n386,Spotify,588,6,2023-01-24,music,sweden,TechCrunch,Public,1,2023\\r\\n387,DoorDash,1250,6,2022-11-30,ecommerce,sanfrancisco,Reuters,Public,11,2022\\r\\n388,Latch,30,6,2022-05-13,security,newyork,TechCrunch,Public,5,2022\\r\\n389,Teladoc Health,300,6,2023-01-18,telehealth,ny,Digital Health,Public,1,2023\\r\\n390,Definitive Healthcare,55,6,2023-01-12,analytics,ma,CMLVIZ,Public,1,2023\\r\\n391,Rivian,840,6,2022-07-28,transportation,ca,CNN,Public,7,2022\\r\\n392,Vimeo,0,6,2023-01-04,media/entertainment,newyork,Vimeo,Public,1,2023\\r\\n393,nCino,100,7,2023-01-18,software,nc,Port City Daily,Public,1,2023\\r\\n394,8x8,155,7,2023-01-18,software,ca,Channel Futures,Public,1,2023\\r\\n395,Roku,200,7,2022-11-17,streaming,ca,Variety,Public,11,2022\\r\\n396,Informatica,450,7,2023-01-10,computing,ca,Channel Futures,Public,1,2023\\r\\n397,BigBear.ai,0,7,2022-09-08,defense,md,Baltimore Business Journal,Public,9,2022\\r\\n398,Unity,509,8,2023-01-17,games,sanfrancisco,WSJ,Public,1,2023\\r\\n399,Asana,180,9,2022-11-15,software,sanfrancisco,Asana COO,Public,11,2022\\r\\n400,Pear Therapeutics,25,9,2022-07-25,biotech,boston,MassDevice,Public,7,2022\\r\\n401,DocuSign,0,9,2022-09-28,esignature,sanfrancisco,CNBC,Public,9,2022\\r\\n402,ForeScout Technologies,100,10,2023-01-10,services,ca,Calcalistech,Public,1,2023\\r\\n403,Shopify,1000,10,2022-07-26,ecommerce,canada,WSJ,Public,7,2022\\r\\n404,Similarweb,120,10,2022-11-16,analytics,newyork,Globes,Public,11,2022\\r\\n405,iRobot,140,10,2022-08-05,robotics,ma,Geekwire,Public,8,2022\\r\\n406,Blend,200,10,2022-04-19,fintech,sanfrancisco,HousingWire,Public,4,2022\\r\\n407,Skillz,70,10,2022-05-20,games,sanfrancisco,TechCrunch,Public,5,2022\\r\\n408,Beachbody,70,10,2022-01-27,fitness,ca,Club Industry,Public,1,2022\\r\\n409,Zulily,99,10,2022-05-16,ecommerce,seattle,GeekWire,Public,5,2022\\r\\n410,Compass,0,10,2023-01-05,proptech,newyork,Bloomberg,Public,1,2023\\r\\n411,SoundHound,0,10,2023-01-05,ai,ca,SoundHound,Public,1,2023\\r\\n412,Blue Apron,0,10,2022-12-08,service,newyork,Blue Apron,Public,12,2022\\r\\n413,Core Scientific,0,10,2022-08-12,cryptocurrency,austin,Blockworks,Public,8,2022\\r\\n414,Kaltura,75,11,2023-01-04,software,newyork,Globes,Public,1,2023\\r\\n415,Twilio,800,11,2022-09-14,software,sanfrancisco,TechCrunch,Public,9,2022\\r\\n416,Zuora,0,11,2022-12-06,infrastructure,ca,MarketWatch,Public,12,2022\\r\\n417,BuzzFeed,180,12,2022-12-06,news,newyork,Variety,Public,12,2022\\r\\n418,AppLovin,300,12,2022-06-29,tools,paloalto,Silicon Valley Business Journal,Public,6,2022\\r\\n419,DesktopMetal,0,12,2022-06-13,printing,massachusetts,MarketWatch,Public,6,2022\\r\\n420,Meta,11000,13,2022-11-09,media,ca,CNBC,Public,11,2022\\r\\n421,Integral Ad Science,120,13,2022-12-07,enterprise,newyork,Integral Ad Science,Public,12,2022\\r\\n422,BigCommerce,0,13,2022-12-15,ecommerce,tx,MarketWatch,Public,12,2022\\r\\n423,Elastic,0,13,2022-11-30,saas,sanfrancisco,Elastic,Public,11,2022\\r\\n424,Lending Club,225,14,2023-01-12,banking,sanfrancisco,Bloomberg,Public,1,2023\\r\\n425,Edgio,95,14,2022-12-13,hosting,az,Edgio,Public,12,2022\\r\\n426,Life360,0,14,2023-01-12,apps,sanfrancisco,Life360 statement,Public,1,2023\\r\\n427,Groupon,500,15,2022-08-08,retail,chicago,TechCrunch,Public,8,2022\\r\\n428,Lyft,760,15,2022-11-03,transportation,sanfrancisco,WSJ,Public,11,2022\\r\\n429,Baakt,0,15,2022-12-08,cryptocurrency,ga,Baakt,Public,12,2022\\r\\n430,ThredUp,0,15,2022-08-15,fashion,ca,Retail Dive,Public,8,2022\\r\\n431,Limeade,0,15,2023-01-11,tech,wa,GeekWire,Public,1,2023\\r\\n432,GoodRx,140,16,2022-08-31,pharmaceuticals,losangeles,Seeking Alpha,Public,8,2022\\r\\n433,Astra,0,16,2022-11-08,space,ca,Astra CEO,Public,11,2022\\r\\n434,Enjoy,400,18,2022-06-30,delivery,paloalto,Bloomberg,Public,6,2022\\r\\n435,Opendoor,550,18,2022-11-02,proptech,sanfrancisco,Opendoor CEO,Public,11,2022\\r\\n436,Redfin,1332,19,2022-11-09,proptech,seattle,Bloomberg,Public,11,2022\\r\\n437,Snap,1280,20,2022-08-31,media,ca,The Verge,Public,8,2022\\r\\n438,Pluralsight,400,20,2022-12-12,it,ut,Pluralsight,Public,12,2022\\r\\n439,Metromile,60,20,2022-07-29,transportation,sanfrancisco,Crunchbase,Public,7,2022\\r\\n440,GoHealth,800,20,2022-08-11,insurance,chicago,Chicago Sun Times,Public,8,2022\\r\\n441,Sezzle,0,20,2022-03-10,fintech,minneapolis,Reuters,Public,3,2022\\r\\n442,Pagaya,0,20,2023-01-18,ai,newyork,Reuters,Public,1,2023\\r\\n443,2U,0,20,2022-08-01,edtech,md,Inside Higher Ed,Public,8,2022\\r\\n444,Leafly,56,21,2022-10-18,cannabis,seattle,Leafly,Public,10,2022\\r\\n445,Sonder,0,21,2022-06-10,hospitality,sanfrancisco,MarketWatch,Public,6,2022\\r\\n446,Bird,138,23,2022-06-07,transporation,santamonica,TechCrunch,Public,6,2022\\r\\n447,Rent the Runway,0,24,2022-09-12,retail,newyork,Wall Street Journal,Public,9,2022\\r\\n448,TuSimple,350,25,2022-12-21,transportation,sandiego,TechCrunch,Public,12,2022\\r\\n449,Qualtrics,0,25,2023-01-11,software,ut,MarketWatch,Public,1,2023\\r\\n450,PayPal,83,27,2022-05-23,fintech,sanjose,The Information,Public,5,2022\\r\\n451,Blend,0,28,2023-01-10,proptech,sanfrancisco,Inman,Public,1,2023\\r\\n452,Juul,400,30,2022-11-10,pens,sanfrancisco,CNBC,Public,11,2022\\r\\n453,Akili Interactive Labs,46,30,2023-01-12,care,boston,Behavioral Health Business,Public,1,2023\\r\\n454,Robinhood,1013,33,2022-08-02,fintech,menlopark,Robinhood,Public,8,2022\\r\\n455,Playtika,250,33,2022-05-31,gaming,telaviv,Globes,Public,5,2022\\r\\n456,Vroom,647,33,2022-08-08,ecommerce,newyork,Automotive News,Public,8,2022\\r\\n457,Stitch Fix,0,35,2023-01-05,fashion,sanfrancisco,CNBC,Public,1,2023\\r\\n458,Latch,115,37,2022-08-02,proptech,ny,Latch,Public,8,2022\\r\\n459,Sema4,750,39,2022-11-14,care,ct,MarketWatch,Public,11,2022\\r\\n460,Root Insurance,467,40,2022-11-09,insurtech,columbus,Columbus Dispatch,Public,11,2022\\r\\n461,Coinbase,2110,43,2023-01-10,crypto,sanfrancisco,CNBC,Public,1,2023\\r\\n462,Volta Charging,0,54,2022-10-21,vehicles,sanfrancisco,Volta,Public,10,2022\\r\\n463,Twitter,3740,70,2023-01-05,media,sanfrancisco,The Information,Public,1,2023\\r\\n464,Starry,0,74,2023-01-18,hardware,boston,SEC filings,Public,1,2023\\r\\n465,RingCentral,80,0,2023-01-17,software,ca,Barron\\'s,Public,1,2023\\r\\n466,Carvana,4000,0,2023-01-13,ecommerce,tempe,WSJ,Public,1,2023\\r\\n467,Adobe,100,0,2022-12-06,saas,ca,Bloomberg,Public,12,2022\\r\\n468,Invitae,1000,0,2022-07-18,biotech,sanfrancisco,GenomeWeb,Public,7,2022\\r\\n469,Microsoft,10000,0,2023-01-18,software,seattle,Microsoft,Public,1,2023\\r\\n470,Alphabet,12000,0,2023-01-20,services,ca,CNBC,Public,1,2023\\r\\n471,Qualcomm,153,0,2022-12-22,wireless,sandiego,San Diego Union-Tribune,Public,12,2022\\r\\n472,Okta,24,0,2022-08-26,systems,sanfrancisco,Unleash,Public,8,2022\\r\\n473,Beyond Meat,240,0,2022-10-14,foodtech,ca,CNBC,Public,10,2022\\r\\n474,WeWork,300,0,2023-01-19,proptech,newyork,WeWork,Public,1,2023\\r\\n475,Peloton,4084,0,2022-10-06,fitness,newyork,CNBC,Public,10,2022\\r\\n476,UiPath,451,0,2022-11-15,intelligence,newyork,MarketWatch,Public,11,2022\\r\\n477,Netflix,480,0,2022-09-14,media/entertainment,losgatos,Deadline,Public,9,2022\\r\\n478,Cue,558,0,2023-01-05,care,sandiego,360dx,Public,1,2023\\r\\n479,Warby Parker,63,0,2022-08-08,fashion,newyorkcity,Insider,Public,8,2022\\r\\n480,HashiCorp,69,0,2023-01-11,infrastructure,sanfrancisco,Crunchbase News Reporting,Public,1,2023\\r\\n481,Quanergy Systems,72,0,2022-12-14,vehicles,ca,Silicon Valley Business Journal,Public,12,2022\\r\\n482,Doma,825,0,2022-12-06,learning,sanfrancsico,Doma,Public,12,2022\\r\\n483,Wayfair,870,0,2022-08-19,retail,boston,Boston Globe,Public,8,2022\\r\\n484,Salesforce,9090,0,2023-01-04,analytics,sanfrancisco,New York Times,Public,1,2023\\r\\n485,Oracle,0,0,2022-08-01,software,austin,The Information,Public,8,2022\\r\\n486,LivePerson,0,0,2022-09-15,service,newyork,LinkedIn,Public,9,2022\\r\\n487,Skillz,0,0,2022-08-29,gaming,sanfrancisco,Seeking Alpha,Public,8,2022\\r\\n488,Blueboard,0,0,2022-11-03,software,sanfrancisco,LinkedIn reports,Private,11,2022\\r\\n'"
      ]
     },
     "execution_count": 26,
     "metadata": {},
     "output_type": "execute_result"
    }
   ],
   "source": [
    "df.to_csv(\"tech_layoffs_clean.csv\")"
   ]
  },
  {
   "cell_type": "markdown",
   "metadata": {
    "id": "Z8mMYPIbgIOH"
   },
   "source": [
    "# Data Exploration and Visualization"
   ]
  },
  {
   "cell_type": "code",
   "execution_count": 17,
   "metadata": {
    "colab": {
     "base_uri": "https://localhost:8080/",
     "height": 494
    },
    "id": "Nq3_JunbqgeB",
    "outputId": "8be42f1c-1cb0-4c71-db50-d913cd483dd9"
   },
   "outputs": [
    {
     "data": {
      "text/html": [
       "<div>\n",
       "<style scoped>\n",
       "    .dataframe tbody tr th:only-of-type {\n",
       "        vertical-align: middle;\n",
       "    }\n",
       "\n",
       "    .dataframe tbody tr th {\n",
       "        vertical-align: top;\n",
       "    }\n",
       "\n",
       "    .dataframe thead th {\n",
       "        text-align: right;\n",
       "    }\n",
       "</style>\n",
       "<table border=\"1\" class=\"dataframe\">\n",
       "  <thead>\n",
       "    <tr style=\"text-align: right;\">\n",
       "      <th></th>\n",
       "      <th>company</th>\n",
       "      <th>total_layoffs</th>\n",
       "      <th>impacted_workforce_percentage</th>\n",
       "      <th>reported_date</th>\n",
       "      <th>industry</th>\n",
       "      <th>headquarter_location</th>\n",
       "      <th>sources</th>\n",
       "      <th>status</th>\n",
       "      <th>Month</th>\n",
       "      <th>Year</th>\n",
       "    </tr>\n",
       "  </thead>\n",
       "  <tbody>\n",
       "    <tr>\n",
       "      <th>378</th>\n",
       "      <td>Amazon</td>\n",
       "      <td>18000</td>\n",
       "      <td>5</td>\n",
       "      <td>2023-01-05</td>\n",
       "      <td>saas</td>\n",
       "      <td>seattle</td>\n",
       "      <td>Wall Street Journal</td>\n",
       "      <td>Public</td>\n",
       "      <td>1</td>\n",
       "      <td>2023</td>\n",
       "    </tr>\n",
       "    <tr>\n",
       "      <th>470</th>\n",
       "      <td>Alphabet</td>\n",
       "      <td>12000</td>\n",
       "      <td>0</td>\n",
       "      <td>2023-01-20</td>\n",
       "      <td>services</td>\n",
       "      <td>ca</td>\n",
       "      <td>CNBC</td>\n",
       "      <td>Public</td>\n",
       "      <td>1</td>\n",
       "      <td>2023</td>\n",
       "    </tr>\n",
       "    <tr>\n",
       "      <th>420</th>\n",
       "      <td>Meta</td>\n",
       "      <td>11000</td>\n",
       "      <td>13</td>\n",
       "      <td>2022-11-09</td>\n",
       "      <td>media</td>\n",
       "      <td>ca</td>\n",
       "      <td>CNBC</td>\n",
       "      <td>Public</td>\n",
       "      <td>11</td>\n",
       "      <td>2022</td>\n",
       "    </tr>\n",
       "    <tr>\n",
       "      <th>469</th>\n",
       "      <td>Microsoft</td>\n",
       "      <td>10000</td>\n",
       "      <td>0</td>\n",
       "      <td>2023-01-18</td>\n",
       "      <td>software</td>\n",
       "      <td>seattle</td>\n",
       "      <td>Microsoft</td>\n",
       "      <td>Public</td>\n",
       "      <td>1</td>\n",
       "      <td>2023</td>\n",
       "    </tr>\n",
       "    <tr>\n",
       "      <th>484</th>\n",
       "      <td>Salesforce</td>\n",
       "      <td>9090</td>\n",
       "      <td>0</td>\n",
       "      <td>2023-01-04</td>\n",
       "      <td>analytics</td>\n",
       "      <td>sanfrancisco</td>\n",
       "      <td>New York Times</td>\n",
       "      <td>Public</td>\n",
       "      <td>1</td>\n",
       "      <td>2023</td>\n",
       "    </tr>\n",
       "    <tr>\n",
       "      <th>224</th>\n",
       "      <td>Better.com</td>\n",
       "      <td>5000</td>\n",
       "      <td>50</td>\n",
       "      <td>2022-04-19</td>\n",
       "      <td>fintech</td>\n",
       "      <td>newyork</td>\n",
       "      <td>TechCrunch</td>\n",
       "      <td>Private</td>\n",
       "      <td>4</td>\n",
       "      <td>2022</td>\n",
       "    </tr>\n",
       "    <tr>\n",
       "      <th>381</th>\n",
       "      <td>Cisco</td>\n",
       "      <td>4100</td>\n",
       "      <td>5</td>\n",
       "      <td>2022-11-16</td>\n",
       "      <td>saas</td>\n",
       "      <td>ca</td>\n",
       "      <td>Silicon Valley Business Journal</td>\n",
       "      <td>Public</td>\n",
       "      <td>11</td>\n",
       "      <td>2022</td>\n",
       "    </tr>\n",
       "    <tr>\n",
       "      <th>475</th>\n",
       "      <td>Peloton</td>\n",
       "      <td>4084</td>\n",
       "      <td>0</td>\n",
       "      <td>2022-10-06</td>\n",
       "      <td>fitness</td>\n",
       "      <td>newyork</td>\n",
       "      <td>CNBC</td>\n",
       "      <td>Public</td>\n",
       "      <td>10</td>\n",
       "      <td>2022</td>\n",
       "    </tr>\n",
       "    <tr>\n",
       "      <th>466</th>\n",
       "      <td>Carvana</td>\n",
       "      <td>4000</td>\n",
       "      <td>0</td>\n",
       "      <td>2023-01-13</td>\n",
       "      <td>ecommerce</td>\n",
       "      <td>tempe</td>\n",
       "      <td>WSJ</td>\n",
       "      <td>Public</td>\n",
       "      <td>1</td>\n",
       "      <td>2023</td>\n",
       "    </tr>\n",
       "    <tr>\n",
       "      <th>463</th>\n",
       "      <td>Twitter</td>\n",
       "      <td>3740</td>\n",
       "      <td>70</td>\n",
       "      <td>2023-01-05</td>\n",
       "      <td>media</td>\n",
       "      <td>sanfrancisco</td>\n",
       "      <td>The Information</td>\n",
       "      <td>Public</td>\n",
       "      <td>1</td>\n",
       "      <td>2023</td>\n",
       "    </tr>\n",
       "  </tbody>\n",
       "</table>\n",
       "</div>"
      ],
      "text/plain": [
       "        company  total_layoffs  impacted_workforce_percentage reported_date  \\\n",
       "378      Amazon          18000                              5    2023-01-05   \n",
       "470    Alphabet          12000                              0    2023-01-20   \n",
       "420        Meta          11000                             13    2022-11-09   \n",
       "469   Microsoft          10000                              0    2023-01-18   \n",
       "484  Salesforce           9090                              0    2023-01-04   \n",
       "224  Better.com           5000                             50    2022-04-19   \n",
       "381       Cisco           4100                              5    2022-11-16   \n",
       "475     Peloton           4084                              0    2022-10-06   \n",
       "466     Carvana           4000                              0    2023-01-13   \n",
       "463     Twitter           3740                             70    2023-01-05   \n",
       "\n",
       "      industry headquarter_location                          sources   status  \\\n",
       "378       saas              seattle              Wall Street Journal   Public   \n",
       "470   services                   ca                             CNBC   Public   \n",
       "420      media                   ca                             CNBC   Public   \n",
       "469   software              seattle                        Microsoft   Public   \n",
       "484  analytics         sanfrancisco                   New York Times   Public   \n",
       "224    fintech              newyork                       TechCrunch  Private   \n",
       "381       saas                   ca  Silicon Valley Business Journal   Public   \n",
       "475    fitness              newyork                             CNBC   Public   \n",
       "466  ecommerce                tempe                              WSJ   Public   \n",
       "463      media         sanfrancisco                  The Information   Public   \n",
       "\n",
       "     Month  Year  \n",
       "378      1  2023  \n",
       "470      1  2023  \n",
       "420     11  2022  \n",
       "469      1  2023  \n",
       "484      1  2023  \n",
       "224      4  2022  \n",
       "381     11  2022  \n",
       "475     10  2022  \n",
       "466      1  2023  \n",
       "463      1  2023  "
      ]
     },
     "execution_count": 17,
     "metadata": {},
     "output_type": "execute_result"
    }
   ],
   "source": [
    "top_10 = df.sort_values('total_layoffs', ascending=False).head(10)\n",
    "top_10"
   ]
  },
  {
   "cell_type": "code",
   "execution_count": 18,
   "metadata": {},
   "outputs": [],
   "source": [
    "# !pip install matplotlib --upgrade --user"
   ]
  },
  {
   "cell_type": "code",
   "execution_count": 19,
   "metadata": {},
   "outputs": [
    {
     "name": "stdout",
     "output_type": "stream",
     "text": [
      "matplotlib: 3.7.1\n"
     ]
    }
   ],
   "source": [
    "print('matplotlib: {}'.format(matplotlib.__version__))"
   ]
  },
  {
   "cell_type": "markdown",
   "metadata": {},
   "source": [
    "### Top 10 Layoffs By Company Name"
   ]
  },
  {
   "cell_type": "code",
   "execution_count": 20,
   "metadata": {
    "scrolled": true
   },
   "outputs": [
    {
     "data": {
      "image/png": "[encoded data removed]",
      "text/plain": [
       "<Figure size 1800x720 with 1 Axes>"
      ]
     },
     "metadata": {
      "needs_background": "light"
     },
     "output_type": "display_data"
    }
   ],
   "source": [
    "fig, ax = plt.subplots(figsize=(25, 10))\n",
    "\n",
    "p=sns.barplot(x=\"total_layoffs\", y=\"company\", data=top_10,\n",
    "              ax=ax)\n",
    "for container in p.containers:\n",
    "    p.bar_label(container,padding=-80)\n",
    "    \n",
    "plt.title(\"Top 10 Company Layoffs\")\n",
    "plt.xlabel('Layoffs')\n",
    "plt.ylabel('Company Name')\n",
    "plt.show()"
   ]
  },
  {
   "cell_type": "markdown",
   "metadata": {},
   "source": [
    "### Top 10 Layoffs By Industry"
   ]
  },
  {
   "cell_type": "code",
   "execution_count": 21,
   "metadata": {
    "id": "qzrlnnzLtWp-"
   },
   "outputs": [
    {
     "name": "stdout",
     "output_type": "stream",
     "text": [
      "<BarContainer object of 10 artists>\n"
     ]
    },
    {
     "data": {
      "image/png": "[encoded data removed]",
      "text/plain": [
       "<Figure size 1800x720 with 1 Axes>"
      ]
     },
     "metadata": {
      "needs_background": "light"
     },
     "output_type": "display_data"
    }
   ],
   "source": [
    "fig, ax = plt.subplots(figsize=(25, 10))\n",
    "\n",
    "# top_10_industries = df['industry'].value_counts().head(10)\n",
    "top_10_industries = df.groupby('industry').size().sort_values(ascending=False).head(10)\n",
    "top_10_industries = top_10_industries.to_frame().reset_index()\n",
    "\n",
    "p = sns.barplot(x=0, y='industry', data=top_10_industries, ax=ax)\n",
    "for container in p.containers:\n",
    "    p.bar_label(container, padding=-40)\n",
    "    print(container)\n",
    "    \n",
    "plt.title(\"Top 10 Layoffs By Industry\")\n",
    "plt.ylabel('Industry')\n",
    "plt.xlabel('Lay offs')\n",
    "plt.show()"
   ]
  },
  {
   "cell_type": "markdown",
   "metadata": {},
   "source": [
    "### Top 10 Layoffs By HQ Location"
   ]
  },
  {
   "cell_type": "code",
   "execution_count": 22,
   "metadata": {
    "id": "FL8GCHPct-fp"
   },
   "outputs": [
    {
     "data": {
      "image/png": "[encoded data removed]",
      "text/plain": [
       "<Figure size 1800x720 with 1 Axes>"
      ]
     },
     "metadata": {
      "needs_background": "light"
     },
     "output_type": "display_data"
    }
   ],
   "source": [
    "fig, ax = plt.subplots(figsize=(25, 10))\n",
    "# top_10_locations = df['headquarter_location'].value_counts().head(10)\n",
    "top_10_locations = df.groupby('headquarter_location').size().sort_values(ascending=False).head(10)\n",
    "top_10_locations = top_10_locations.to_frame().reset_index()\n",
    "\n",
    "p = sns.barplot(y='headquarter_location', x=0, data=top_10_locations, ax=ax)\n",
    "for container in p.containers:\n",
    "    p.bar_label(container, padding=-45)\n",
    "    \n",
    "plt.title(\"Top 10 Layoffs By HQ Location\")\n",
    "plt.ylabel(\"headquarter_location\")\n",
    "plt.xlabel('Layoffs')\n",
    "plt.show()"
   ]
  },
  {
   "cell_type": "markdown",
   "metadata": {},
   "source": [
    "### Layoffs By IPO status"
   ]
  },
  {
   "cell_type": "code",
   "execution_count": 23,
   "metadata": {
    "scrolled": true
   },
   "outputs": [
    {
     "data": {
      "image/png": "[encoded data removed]",
      "text/plain": [
       "<Figure size 1800x360 with 1 Axes>"
      ]
     },
     "metadata": {
      "needs_background": "light"
     },
     "output_type": "display_data"
    }
   ],
   "source": [
    "fig, ax = plt.subplots(figsize=(25, 5))\n",
    "df_status = df.groupby('status').size().sort_values(ascending=False)\n",
    "df_status = df_status.to_frame().reset_index()\n",
    "\n",
    "p = sns.countplot(y='status', data=df, ax=ax)\n",
    "for container in p.containers:\n",
    "    p.bar_label(container, padding=-40)\n",
    "plt.title(\"Private vs Public Layoffs\")\n",
    "plt.ylabel('Number of Layoffs')\n",
    "plt.xlabel('IPO status')\n",
    "plt.show()"
   ]
  },
  {
   "cell_type": "markdown",
   "metadata": {},
   "source": [
    "### Layoffs By Year"
   ]
  },
  {
   "cell_type": "code",
   "execution_count": 24,
   "metadata": {},
   "outputs": [
    {
     "data": {
      "image/png": "[encoded data removed]",
      "text/plain": [
       "<Figure size 1800x576 with 1 Axes>"
      ]
     },
     "metadata": {
      "needs_background": "light"
     },
     "output_type": "display_data"
    }
   ],
   "source": [
    "fig, ax = plt.subplots(figsize=(25, 8))\n",
    "p = sns.countplot(x=\"Year\", data=df, ax=ax)\n",
    "\n",
    "for container in p.containers:\n",
    "    p.bar_label(container, padding=-50)\n",
    "\n",
    "plt.title(\"Layoffs in 2022 and 2023\")\n",
    "plt.ylabel(\"Number of Layoffs\")\n",
    "plt.xlabel('Year')\n",
    "plt.show()"
   ]
  },
  {
   "cell_type": "code",
   "execution_count": 32,
   "metadata": {},
   "outputs": [
    {
     "data": {
      "text/html": [
       "<div>\n",
       "<style scoped>\n",
       "    .dataframe tbody tr th:only-of-type {\n",
       "        vertical-align: middle;\n",
       "    }\n",
       "\n",
       "    .dataframe tbody tr th {\n",
       "        vertical-align: top;\n",
       "    }\n",
       "\n",
       "    .dataframe thead th {\n",
       "        text-align: right;\n",
       "    }\n",
       "</style>\n",
       "<table border=\"1\" class=\"dataframe\">\n",
       "  <thead>\n",
       "    <tr style=\"text-align: right;\">\n",
       "      <th></th>\n",
       "      <th>Month</th>\n",
       "      <th>total_layoffs</th>\n",
       "    </tr>\n",
       "  </thead>\n",
       "  <tbody>\n",
       "    <tr>\n",
       "      <th>0</th>\n",
       "      <td>1</td>\n",
       "      <td>82</td>\n",
       "    </tr>\n",
       "    <tr>\n",
       "      <th>1</th>\n",
       "      <td>2</td>\n",
       "      <td>2</td>\n",
       "    </tr>\n",
       "    <tr>\n",
       "      <th>2</th>\n",
       "      <td>3</td>\n",
       "      <td>5</td>\n",
       "    </tr>\n",
       "    <tr>\n",
       "      <th>3</th>\n",
       "      <td>4</td>\n",
       "      <td>10</td>\n",
       "    </tr>\n",
       "    <tr>\n",
       "      <th>4</th>\n",
       "      <td>5</td>\n",
       "      <td>29</td>\n",
       "    </tr>\n",
       "    <tr>\n",
       "      <th>5</th>\n",
       "      <td>6</td>\n",
       "      <td>57</td>\n",
       "    </tr>\n",
       "    <tr>\n",
       "      <th>6</th>\n",
       "      <td>7</td>\n",
       "      <td>55</td>\n",
       "    </tr>\n",
       "    <tr>\n",
       "      <th>7</th>\n",
       "      <td>8</td>\n",
       "      <td>52</td>\n",
       "    </tr>\n",
       "    <tr>\n",
       "      <th>8</th>\n",
       "      <td>9</td>\n",
       "      <td>33</td>\n",
       "    </tr>\n",
       "    <tr>\n",
       "      <th>9</th>\n",
       "      <td>10</td>\n",
       "      <td>40</td>\n",
       "    </tr>\n",
       "    <tr>\n",
       "      <th>10</th>\n",
       "      <td>11</td>\n",
       "      <td>75</td>\n",
       "    </tr>\n",
       "    <tr>\n",
       "      <th>11</th>\n",
       "      <td>12</td>\n",
       "      <td>49</td>\n",
       "    </tr>\n",
       "  </tbody>\n",
       "</table>\n",
       "</div>"
      ],
      "text/plain": [
       "    Month  total_layoffs\n",
       "0       1             82\n",
       "1       2              2\n",
       "2       3              5\n",
       "3       4             10\n",
       "4       5             29\n",
       "5       6             57\n",
       "6       7             55\n",
       "7       8             52\n",
       "8       9             33\n",
       "9      10             40\n",
       "10     11             75\n",
       "11     12             49"
      ]
     },
     "execution_count": 32,
     "metadata": {},
     "output_type": "execute_result"
    }
   ],
   "source": [
    "# group the data by month and layoffs; and calculate the total layoffs\n",
    "month_layoffs = df.groupby([\"Month\"])[\"total_layoffs\"].count().reset_index()\n",
    "month_layoffs"
   ]
  },
  {
   "cell_type": "code",
   "execution_count": 31,
   "metadata": {},
   "outputs": [
    {
     "data": {
      "image/png": "[encoded data removed]",
      "text/plain": [
       "<Figure size 720x576 with 1 Axes>"
      ]
     },
     "metadata": {
      "needs_background": "light"
     },
     "output_type": "display_data"
    }
   ],
   "source": [
    "plt.figure(figsize=(10,8))\n",
    "sns.kdeplot(x=df['Month'])\n",
    "plt.title('Distribution of Layoffs per Month')\n",
    "plt.show()"
   ]
  },
  {
   "cell_type": "markdown",
   "metadata": {},
   "source": [
    "### Layoffs By Month"
   ]
  },
  {
   "cell_type": "code",
   "execution_count": 33,
   "metadata": {
    "scrolled": true
   },
   "outputs": [
    {
     "data": {
      "image/png": "[encoded data removed]",
      "text/plain": [
       "<Figure size 1440x720 with 1 Axes>"
      ]
     },
     "metadata": {
      "needs_background": "light"
     },
     "output_type": "display_data"
    }
   ],
   "source": [
    "import calendar\n",
    "plt.figure(figsize=(20, 10))\n",
    "\n",
    "# build line chart\n",
    "sns.lineplot(x=\"Month\", y=\"total_layoffs\", data=gg)\n",
    "plt.title(\"Layoffs Trends\")\n",
    "plt.ylabel(\"Layoffs\")\n",
    "plt.xlabel(\"Month\")\n",
    "\n",
    "# set x-tick labels as the names of months\n",
    "plt.xticks(range(1,13), [calendar.month_name[i] for i in range(1,13)], rotation=20)\n",
    "plt.show()"
   ]
  }
 ],
 "metadata": {
  "colab": {
   "provenance": []
  },
  "kernelspec": {
   "display_name": "Python 3",
   "language": "python",
   "name": "python3"
  },
  "language_info": {
   "codemirror_mode": {
    "name": "ipython",
    "version": 3
   },
   "file_extension": ".py",
   "mimetype": "text/x-python",
   "name": "python",
   "nbconvert_exporter": "python",
   "pygments_lexer": "ipython3",
   "version": "3.8.8"
  }
 },
 "nbformat": 4,
 "nbformat_minor": 1
}
